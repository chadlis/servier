{
 "cells": [
  {
   "cell_type": "markdown",
   "metadata": {
    "id": "vv-J8-o84rO_"
   },
   "source": [
    "# Message-passing neural network (MPNN) for molecular property prediction"
   ]
  },
  {
   "cell_type": "code",
   "execution_count": 7,
   "metadata": {
    "id": "vA9b7MYY6IB3"
   },
   "outputs": [],
   "source": [
    "#!pip -q install rdkit-pypi\n",
    "#!pip -q install pandas\n",
    "#!pip -q install Pillow\n",
    "#!pip -q install matplotlib\n",
    "#!pip -q install pydot\n",
    "#!sudo apt-get -qq install graphviz"
   ]
  },
  {
   "cell_type": "markdown",
   "metadata": {
    "id": "aqT-oBmL4rPC"
   },
   "source": [
    "### Import packages"
   ]
  },
  {
   "cell_type": "code",
   "execution_count": 1,
   "metadata": {},
   "outputs": [],
   "source": [
    "%load_ext autoreload\n",
    "%autoreload 2"
   ]
  },
  {
   "cell_type": "code",
   "execution_count": 2,
   "metadata": {
    "id": "k8v-M_h84rPC"
   },
   "outputs": [],
   "source": [
    "import os\n",
    "from pathlib import Path\n",
    "# Temporary suppress tf logs\n",
    "os.environ[\"TF_CPP_MIN_LOG_LEVEL\"] = \"3\"\n",
    "\n",
    "import tensorflow as tf\n",
    "import numpy as np\n",
    "import pandas as pd\n",
    "import warnings\n",
    "import matplotlib.pyplot as plt\n",
    "\n",
    "# Temporary suppress warnings\n",
    "#warnings.filterwarnings(\"ignore\")\n",
    "\n",
    "\n",
    "np.random.seed(42)\n",
    "tf.random.set_seed(42)"
   ]
  },
  {
   "cell_type": "code",
   "execution_count": null,
   "metadata": {},
   "outputs": [],
   "source": []
  },
  {
   "cell_type": "code",
   "execution_count": 77,
   "metadata": {},
   "outputs": [],
   "source": [
    "from constants import *"
   ]
  },
  {
   "cell_type": "markdown",
   "metadata": {
    "id": "_sXSqTS-4rPD",
    "tags": []
   },
   "source": [
    "## Data"
   ]
  },
  {
   "cell_type": "code",
   "execution_count": 53,
   "metadata": {
    "colab": {
     "base_uri": "https://localhost:8080/",
     "height": 206
    },
    "id": "So96FK9NGewA",
    "outputId": "f3423e8e-8d9c-4180-cd74-b77d97c08c27"
   },
   "outputs": [
    {
     "data": {
      "text/html": [
       "<div>\n",
       "<style scoped>\n",
       "    .dataframe tbody tr th:only-of-type {\n",
       "        vertical-align: middle;\n",
       "    }\n",
       "\n",
       "    .dataframe tbody tr th {\n",
       "        vertical-align: top;\n",
       "    }\n",
       "\n",
       "    .dataframe thead th {\n",
       "        text-align: right;\n",
       "    }\n",
       "</style>\n",
       "<table border=\"1\" class=\"dataframe\">\n",
       "  <thead>\n",
       "    <tr style=\"text-align: right;\">\n",
       "      <th></th>\n",
       "      <th>P1</th>\n",
       "      <th>mol_id</th>\n",
       "      <th>smiles</th>\n",
       "    </tr>\n",
       "  </thead>\n",
       "  <tbody>\n",
       "    <tr>\n",
       "      <th>0</th>\n",
       "      <td>1</td>\n",
       "      <td>CID2999678</td>\n",
       "      <td>Cc1cccc(N2CCN(C(=O)C34CC5CC(CC(C5)C3)C4)CC2)c1C</td>\n",
       "    </tr>\n",
       "    <tr>\n",
       "      <th>1</th>\n",
       "      <td>0</td>\n",
       "      <td>CID2999679</td>\n",
       "      <td>Cn1ccnc1SCC(=O)Nc1ccc(Oc2ccccc2)cc1</td>\n",
       "    </tr>\n",
       "    <tr>\n",
       "      <th>2</th>\n",
       "      <td>1</td>\n",
       "      <td>CID2999672</td>\n",
       "      <td>COc1cc2c(cc1NC(=O)CN1C(=O)NC3(CCc4ccccc43)C1=O...</td>\n",
       "    </tr>\n",
       "    <tr>\n",
       "      <th>3</th>\n",
       "      <td>0</td>\n",
       "      <td>CID5390002</td>\n",
       "      <td>O=C1/C(=C/NC2CCS(=O)(=O)C2)c2ccccc2C(=O)N1c1cc...</td>\n",
       "    </tr>\n",
       "    <tr>\n",
       "      <th>4</th>\n",
       "      <td>1</td>\n",
       "      <td>CID2999670</td>\n",
       "      <td>NC(=O)NC(Cc1ccccc1)C(=O)O</td>\n",
       "    </tr>\n",
       "  </tbody>\n",
       "</table>\n",
       "</div>"
      ],
      "text/plain": [
       "   P1      mol_id                                             smiles\n",
       "0   1  CID2999678    Cc1cccc(N2CCN(C(=O)C34CC5CC(CC(C5)C3)C4)CC2)c1C\n",
       "1   0  CID2999679                Cn1ccnc1SCC(=O)Nc1ccc(Oc2ccccc2)cc1\n",
       "2   1  CID2999672  COc1cc2c(cc1NC(=O)CN1C(=O)NC3(CCc4ccccc43)C1=O...\n",
       "3   0  CID5390002  O=C1/C(=C/NC2CCS(=O)(=O)C2)c2ccccc2C(=O)N1c1cc...\n",
       "4   1  CID2999670                          NC(=O)NC(Cc1ccccc1)C(=O)O"
      ]
     },
     "execution_count": 53,
     "metadata": {},
     "output_type": "execute_result"
    }
   ],
   "source": [
    "df = pd.read_csv(\"../data/0_raw/data.csv\").reset_index(drop=True)\n",
    "df.head(\n",
    ")"
   ]
  },
  {
   "cell_type": "code",
   "execution_count": 75,
   "metadata": {},
   "outputs": [
    {
     "name": "stderr",
     "output_type": "stream",
     "text": [
      "INFO:root: Data Validation | Dataset imbalance | Proportions: {1: 0.82, 0: 0.18}\n",
      "WARNING:root: Data Validation | Dataset imbalance | Severe imbalance!\n",
      "INFO:root: Data Validation | Finished!\n"
     ]
    }
   ],
   "source": [
    "from data import validate_dataframe\n",
    "df = validate_dataframe(df)"
   ]
  },
  {
   "cell_type": "markdown",
   "metadata": {},
   "source": [
    "## Split to train/validation/test\n",
    "\n",
    "\n",
    "Although scaffold splitting is recommended in our case (see\n",
    "[here](https://www.blopig.com/blog/2021/06/out-of-distribution-generalisation-and-scaffold-splitting-in-molecular-property-prediction/)), for simplicity, random strattified splittings were\n",
    "performed."
   ]
  },
  {
   "cell_type": "code",
   "execution_count": 76,
   "metadata": {},
   "outputs": [
    {
     "name": "stderr",
     "output_type": "stream",
     "text": [
      "INFO:root: Data Validation | Dataset imbalance | Proportions: {1: 0.82, 0: 0.18}\n",
      "WARNING:root: Data Validation | Dataset imbalance | Severe imbalance!\n",
      "INFO:root: Data Validation | Finished!\n",
      "INFO:root: Data Splitting | Train: 0.7, Valid: 0.15, Test: 0.15\n",
      "INFO:root: Data Splitting | Finished!\n"
     ]
    },
    {
     "data": {
      "text/plain": [
       "('data/1_intermediate/data_train.csv',\n",
       " 'data/1_intermediate/data_valid.csv',\n",
       " 'data/1_intermediate/data_test.csv')"
      ]
     },
     "execution_count": 76,
     "metadata": {},
     "output_type": "execute_result"
    }
   ],
   "source": [
    "from data import split_data\n",
    "split_data(data_path=INPUT_DATA_PATH,\n",
    "           output_path=INTERMEDIATE_DATA_PATH,\n",
    "           test_only=False,\n",
    "          )"
   ]
  },
  {
   "cell_type": "code",
   "execution_count": null,
   "metadata": {},
   "outputs": [],
   "source": []
  },
  {
   "cell_type": "code",
   "execution_count": 229,
   "metadata": {},
   "outputs": [
    {
     "data": {
      "text/plain": [
       "(3499, 750, 750)"
      ]
     },
     "execution_count": 229,
     "metadata": {},
     "output_type": "execute_result"
    }
   ],
   "source": [
    "len(df_train), len(df_valid), len(df_test)"
   ]
  },
  {
   "cell_type": "code",
   "execution_count": 272,
   "metadata": {},
   "outputs": [
    {
     "data": {
      "text/plain": [
       "PosixPath('data/1_intermediate/data_train.pkl')"
      ]
     },
     "execution_count": 272,
     "metadata": {},
     "output_type": "execute_result"
    }
   ],
   "source": [
    "INTERMEDIATE_DATA_PATH/DATA_TRAIN_FILENAME"
   ]
  },
  {
   "cell_type": "markdown",
   "metadata": {
    "id": "fRU-skw14rPE",
    "tags": []
   },
   "source": [
    "## Featurization, Graph Generation & DataSet Creation\n"
   ]
  },
  {
   "cell_type": "code",
   "execution_count": 277,
   "metadata": {},
   "outputs": [],
   "source": [
    "from data import get_mpnn_dataset\n",
    "train_dataset, atom_dim, bond_dim = get_mpnn_dataset(df_train, return_dims=True)\n",
    "valid_dataset = get_mpnn_dataset(df_valid,)\n",
    "test_dataset = get_mpnn_dataset(df_test,)"
   ]
  },
  {
   "cell_type": "code",
   "execution_count": null,
   "metadata": {},
   "outputs": [],
   "source": []
  },
  {
   "cell_type": "markdown",
   "metadata": {},
   "source": [
    "### Handle imbalance"
   ]
  },
  {
   "cell_type": "code",
   "execution_count": 158,
   "metadata": {},
   "outputs": [
    {
     "data": {
      "text/plain": [
       "'None'"
      ]
     },
     "execution_count": 158,
     "metadata": {},
     "output_type": "execute_result"
    }
   ],
   "source": []
  },
  {
   "cell_type": "code",
   "execution_count": 80,
   "metadata": {},
   "outputs": [
    {
     "data": {
      "text/plain": [
       "(array([1.52765758]), {0: 2.8036858974358974, 1: 0.6085217391304348})"
      ]
     },
     "execution_count": 80,
     "metadata": {},
     "output_type": "execute_result"
    }
   ],
   "source": [
    "initial_bias, class_weight = get_imbalance_params(df_train)\n",
    "initial_bias, class_weight"
   ]
  },
  {
   "cell_type": "code",
   "execution_count": 83,
   "metadata": {},
   "outputs": [],
   "source": [
    "from modeling import get_imbalance_params, MPNNModel\n",
    "from data import get_mpnn_dataset\n"
   ]
  },
  {
   "cell_type": "code",
   "execution_count": 159,
   "metadata": {},
   "outputs": [
    {
     "data": {
      "text/plain": [
       "True"
      ]
     },
     "execution_count": 159,
     "metadata": {},
     "output_type": "execute_result"
    }
   ],
   "source": [
    "aa = False\n",
    "bb = not aa\n",
    "bb"
   ]
  },
  {
   "cell_type": "code",
   "execution_count": 164,
   "metadata": {},
   "outputs": [
    {
     "name": "stdout",
     "output_type": "stream",
     "text": [
      "ok\n"
     ]
    }
   ],
   "source": [
    "aa = \"bb\"\n",
    "if type(aa) == str:\n",
    "    print(\"ok\")"
   ]
  },
  {
   "cell_type": "code",
   "execution_count": 90,
   "metadata": {},
   "outputs": [],
   "source": [
    "def train(data_train_path, data_valid_path, save_model_path=\"models/my_model\", handle_imbalance=False):\n",
    "    df_train = pd.read_csv(data_train_path)\n",
    "    df_train = validate_dataframe(df_train)\n",
    "    \n",
    "    train_dataset, atom_dim, bond_dim = get_mpnn_dataset(df_train, return_dims=True)\n",
    "    \n",
    "    if data_valid_path is not None:\n",
    "        df_valid = pd.read_csv(data_valid_path)\n",
    "        valid_dataset = get_mpnn_dataset(df_valid,)\n",
    "    \n",
    "    initial_bias=None\n",
    "    class_weights=None\n",
    "    if handle_imbalance==True:\n",
    "        initial_bias, class_weight = get_imbalance_params(df_train)\n",
    "    \n",
    "    model = MPNNModel(\n",
    "        atom_dim=atom_dim, bond_dim=bond_dim, output_bias=initial_bias,\n",
    "    )\n",
    "    \n",
    "    model.compile(\n",
    "        loss=tf.keras.losses.BinaryCrossentropy(),\n",
    "        optimizer=tf.keras.optimizers.Adam(learning_rate=5e-4),\n",
    "        metrics=[tf.keras.metrics.AUC(name=\"AUC\")],\n",
    "    )\n",
    "    \n",
    "    reduce_lr = tf.keras.callbacks.ReduceLROnPlateau(monitor='val_loss', factor=0.1,\n",
    "                                  patience=5, min_lr=1e-7)\n",
    "    early_stopping = tf.keras.callbacks.EarlyStopping(\n",
    "        monitor='val_loss',\n",
    "        patience=5,\n",
    "    )\n",
    "    with warnings.catch_warnings():\n",
    "        warnings.simplefilter(\"ignore\")\n",
    "        history = model.fit(\n",
    "            train_dataset,\n",
    "            validation_data=valid_dataset,\n",
    "            epochs=MAX_EPOCHS,\n",
    "            verbose=2,\n",
    "            callbacks=[reduce_lr, early_stopping],\n",
    "            class_weight=class_weight,\n",
    "        )\n",
    "    model.save(save_model_path)\n",
    "    return model, history"
   ]
  },
  {
   "cell_type": "code",
   "execution_count": 88,
   "metadata": {
    "tags": []
   },
   "outputs": [
    {
     "name": "stdout",
     "output_type": "stream",
     "text": [
      "Epoch 1/2\n",
      "24/24 - 21s - loss: 0.7253 - AUC: 0.4509 - val_loss: 0.6910 - val_AUC: 0.5909 - lr: 5.0000e-04 - 21s/epoch - 882ms/step\n",
      "Epoch 2/2\n",
      "24/24 - 10s - loss: 0.6938 - AUC: 0.5112 - val_loss: 0.6385 - val_AUC: 0.6757 - lr: 5.0000e-04 - 10s/epoch - 423ms/step\n"
     ]
    },
    {
     "name": "stderr",
     "output_type": "stream",
     "text": [
      "WARNING:absl:Found untraced functions such as edge_network_layer_call_fn, edge_network_layer_call_and_return_conditional_losses, gru_cell_layer_call_fn, gru_cell_layer_call_and_return_conditional_losses, partition_padding_1_layer_call_fn while saving (showing 5 of 24). These functions will not be directly callable after loading.\n"
     ]
    },
    {
     "name": "stdout",
     "output_type": "stream",
     "text": [
      "INFO:tensorflow:Assets written to: models/my_model/assets\n"
     ]
    },
    {
     "name": "stderr",
     "output_type": "stream",
     "text": [
      "INFO:tensorflow:Assets written to: models/my_model/assets\n"
     ]
    },
    {
     "data": {
      "text/plain": [
       "(<keras.engine.functional.Functional at 0x318e316d0>,\n",
       " <keras.callbacks.History at 0x318e2af40>)"
      ]
     },
     "execution_count": 92,
     "metadata": {},
     "output_type": "execute_result"
    }
   ],
   "source": [
    "train(INTERMEDIATE_DATA_PATH/DATA_VALID_FILENAME, INTERMEDIATE_DATA_PATH/DATA_VALID_FILENAME, \n",
    "      save_model_path=\"models/my_model\",\n",
    "      handle_imbalance=True,)"
   ]
  },
  {
   "cell_type": "code",
   "execution_count": 255,
   "metadata": {
    "colab": {
     "base_uri": "https://localhost:8080/",
     "height": 1000
    },
    "id": "zPFwN-944rPH",
    "outputId": "0896e36c-5534-4534-f440-c5efde19557a"
   },
   "outputs": [
    {
     "name": "stdout",
     "output_type": "stream",
     "text": [
      "Epoch 1/2\n",
      "110/110 - 242s - loss: 0.5113 - AUC: 0.6349 - val_loss: 0.5428 - val_AUC: 0.6695 - lr: 5.0000e-04 - 242s/epoch - 2s/step\n",
      "Epoch 2/2\n",
      "110/110 - 156s - loss: 0.4895 - AUC: 0.6860 - val_loss: 0.5843 - val_AUC: 0.6633 - lr: 5.0000e-04 - 156s/epoch - 1s/step\n"
     ]
    }
   ],
   "source": [
    "reduce_lr = tf.keras.callbacks.ReduceLROnPlateau(monitor='val_loss', factor=0.1,\n",
    "                              patience=5, min_lr=1e-7)\n",
    "early_stopping = tf.keras.callbacks.EarlyStopping(\n",
    "    monitor='val_loss',\n",
    "    patience=5,\n",
    ")\n",
    "\n",
    "if validation_dataset is None:\n",
    "    history = model.fit(\n",
    "    train_dataset,\n",
    "    validation_split=VALIDATION_SIZE,\n",
    "    epochs=MAX_EPOCHS,\n",
    "    verbose=2,\n",
    "    callbacks=[reduce_lr, early_stopping],\n",
    "    class_weight={0: 2.0, 1: 0.5},\n",
    "    )\n",
    "else:\n",
    "    history = model.fit(\n",
    "        train_dataset,\n",
    "        validation_data=valid_dataset,\n",
    "        epochs=MAX_EPOCHS,\n",
    "        verbose=2,\n",
    "        callbacks=[reduce_lr, early_stopping],\n",
    "        class_weight=class_weight,\n",
    "    )"
   ]
  },
  {
   "cell_type": "code",
   "execution_count": 287,
   "metadata": {},
   "outputs": [],
   "source": [
    "def evaluate(data_path, model_path):\n",
    "    df_data = pd.read_pickle(data_path)\n",
    "    dataset = get_mpnn_dataset(df_data)\n",
    "    model = tf.keras.models.load_model(model_path)\n",
    "    return model.evaluate(dataset)"
   ]
  },
  {
   "cell_type": "code",
   "execution_count": 288,
   "metadata": {},
   "outputs": [
    {
     "name": "stdout",
     "output_type": "stream",
     "text": [
      "24/24 [==============================] - 47s 2s/step - loss: 0.6458 - AUC: 0.6366\n"
     ]
    }
   ],
   "source": [
    "loss, acc = evaluate(data_path=INTERMEDIATE_DATA_PATH/DATA_VALID_FILENAME,\n",
    "        model_path=\"models/my_model\",)"
   ]
  },
  {
   "cell_type": "code",
   "execution_count": 315,
   "metadata": {},
   "outputs": [],
   "source": [
    "def predict(model_path, data_path=None, smiles=None):\n",
    "    model = tf.keras.models.load_model(model_path)\n",
    "    if (data_path is None) and (smiles is None):\n",
    "        return \"Error!\"\n",
    "    if data_path is not None:\n",
    "        df_data = pd.read_pickle(data_path)\n",
    "        dataset = get_mpnn_dataset(df_data)\n",
    "        return  model.predict(dataset)\n",
    "    if smiles is not None:\n",
    "        dataset = get_mpnn_dataset(smiles)\n",
    "        return model.predict(dataset)"
   ]
  },
  {
   "cell_type": "code",
   "execution_count": 316,
   "metadata": {},
   "outputs": [],
   "source": [
    "predictions = predict(model_path=\"models/my_model\",\n",
    "        data_path=INTERMEDIATE_DATA_PATH/DATA_TEST_FILENAME,\n",
    "       )"
   ]
  },
  {
   "cell_type": "code",
   "execution_count": 321,
   "metadata": {},
   "outputs": [],
   "source": [
    "preds = predict(model_path=\"models/my_model\",\n",
    "        smiles=['CC1=C(C(=O)Nc2cc(-c3cccc(F)c3)[nH]n2)C2(CCCCC2)OC1=O',],\n",
    "       )"
   ]
  },
  {
   "cell_type": "code",
   "execution_count": null,
   "metadata": {},
   "outputs": [],
   "source": []
  },
  {
   "cell_type": "code",
   "execution_count": null,
   "metadata": {},
   "outputs": [],
   "source": []
  },
  {
   "cell_type": "code",
   "execution_count": null,
   "metadata": {},
   "outputs": [],
   "source": []
  },
  {
   "cell_type": "code",
   "execution_count": null,
   "metadata": {},
   "outputs": [],
   "source": []
  },
  {
   "cell_type": "code",
   "execution_count": null,
   "metadata": {},
   "outputs": [],
   "source": []
  },
  {
   "cell_type": "code",
   "execution_count": null,
   "metadata": {},
   "outputs": [],
   "source": [
    "plt.figure(figsize=(10, 6))\n",
    "plt.plot(history.history[\"AUC\"], label=\"train AUC\")\n",
    "plt.plot(history.history[\"val_AUC\"], label=\"valid AUC\")\n",
    "plt.xlabel(\"Epochs\", fontsize=16)\n",
    "plt.ylabel(\"AUC\", fontsize=16)\n",
    "plt.legend(fontsize=16)"
   ]
  },
  {
   "cell_type": "markdown",
   "metadata": {
    "id": "rkBo9xed4rPH"
   },
   "source": [
    "### Predicting"
   ]
  },
  {
   "cell_type": "code",
   "execution_count": null,
   "metadata": {
    "id": "3x8_5jgI4rPH"
   },
   "outputs": [],
   "source": [
    "molecules = [molecule_from_smiles(df.smiles.values[index]) for index in test_index]\n",
    "y_true = [df.p_np.values[index] for index in test_index]\n",
    "y_pred = tf.squeeze(mpnn.predict(test_dataset), axis=1)\n",
    "\n",
    "legends = [f\"y_true/y_pred = {y_true[i]}/{y_pred[i]:.2f}\" for i in range(len(y_true))]\n",
    "MolsToGridImage(molecules, molsPerRow=4, legends=legends)"
   ]
  },
  {
   "cell_type": "code",
   "execution_count": 105,
   "metadata": {
    "colab": {
     "base_uri": "https://localhost:8080/"
    },
    "id": "_uzWealhO5Gk",
    "outputId": "78a468d4-f512-46f7-a524-7b28de7af3c9"
   },
   "outputs": [
    {
     "data": {
      "text/plain": [
       "array(['Cc1ccc(-n2cc(C(=O)c3cc(Cl)ccc3O)cc(C#N)c2=O)cc1'], dtype=object)"
      ]
     },
     "execution_count": 105,
     "metadata": {},
     "output_type": "execute_result"
    }
   ],
   "source": [
    "df.iloc[test_index].head(1).smiles.values"
   ]
  },
  {
   "cell_type": "code",
   "execution_count": 133,
   "metadata": {
    "colab": {
     "base_uri": "https://localhost:8080/"
    },
    "id": "MTLldWEZO3ey",
    "outputId": "72c336a0-8072-4488-85b0-fac4c559c026"
   },
   "outputs": [
    {
     "data": {
      "text/plain": [
       "3"
      ]
     },
     "execution_count": 133,
     "metadata": {},
     "output_type": "execute_result"
    }
   ],
   "source": [
    "sample = graphs_from_smiles(df.iloc[134:135].smiles.values)\n",
    "len(sample)"
   ]
  },
  {
   "cell_type": "code",
   "execution_count": 134,
   "metadata": {
    "id": "XpOUFja3PzAc"
   },
   "outputs": [],
   "source": [
    "sample_dataset = MPNNDataset(sample, None)"
   ]
  },
  {
   "cell_type": "code",
   "execution_count": 135,
   "metadata": {
    "id": "EL5ssQBcPQVF"
   },
   "outputs": [],
   "source": [
    "sample_preds = tf.squeeze(mpnn.predict(sample_dataset), axis=1)"
   ]
  },
  {
   "cell_type": "code",
   "execution_count": 136,
   "metadata": {
    "colab": {
     "base_uri": "https://localhost:8080/"
    },
    "id": "WleaAcZmP5G6",
    "outputId": "d5abafe2-902f-4bc6-ae34-f1b3559d1d2d"
   },
   "outputs": [
    {
     "data": {
      "text/plain": [
       "<tf.Tensor: shape=(1,), dtype=float32, numpy=array([0.891305], dtype=float32)>"
      ]
     },
     "execution_count": 136,
     "metadata": {},
     "output_type": "execute_result"
    }
   ],
   "source": [
    "sample_preds"
   ]
  },
  {
   "cell_type": "code",
   "execution_count": 139,
   "metadata": {
    "colab": {
     "base_uri": "https://localhost:8080/"
    },
    "id": "gF0knLtVPtnx",
    "outputId": "2941f382-1036-4852-f9e9-5309144b4417"
   },
   "outputs": [
    {
     "data": {
      "text/plain": [
       "3"
      ]
     },
     "execution_count": 139,
     "metadata": {},
     "output_type": "execute_result"
    }
   ],
   "source": [
    "len(sample)"
   ]
  },
  {
   "cell_type": "code",
   "execution_count": 145,
   "metadata": {
    "colab": {
     "base_uri": "https://localhost:8080/"
    },
    "id": "iLHaLywMQpaU",
    "outputId": "70e1c61d-5d50-43e5-951d-71b0c462f0aa"
   },
   "outputs": [
    {
     "data": {
      "text/plain": [
       "(1, 2, 3, 4)"
      ]
     },
     "execution_count": 145,
     "metadata": {},
     "output_type": "execute_result"
    }
   ],
   "source": [
    "(1, 2, 3) + (4,)"
   ]
  },
  {
   "cell_type": "code",
   "execution_count": 97,
   "metadata": {},
   "outputs": [],
   "source": [
    "def evaluate(data_path, model_path):\n",
    "    df_data = pd.read_csv(data_path)\n",
    "    df_data = validate_dataframe(df_data)\n",
    "    dataset = get_mpnn_dataset(df_data)\n",
    "    model = tf.keras.models.load_model(model_path)\n",
    "    return model.evaluate(dataset)"
   ]
  },
  {
   "cell_type": "code",
   "execution_count": 98,
   "metadata": {},
   "outputs": [
    {
     "name": "stderr",
     "output_type": "stream",
     "text": [
      "INFO:root: Data Validation | Dataset imbalance | Proportions: {1: 0.82, 0: 0.18}\n",
      "WARNING:root: Data Validation | Dataset imbalance | Severe imbalance!\n",
      "INFO:root: Data Validation | Finished!\n"
     ]
    },
    {
     "name": "stdout",
     "output_type": "stream",
     "text": [
      "24/24 [==============================] - 11s 423ms/step - loss: 0.6385 - AUC: 0.6757\n"
     ]
    }
   ],
   "source": [
    "loss, acc = evaluate(data_path=INTERMEDIATE_DATA_PATH/DATA_VALID_FILENAME,\n",
    "        model_path=\"models/my_model\",)"
   ]
  },
  {
   "cell_type": "code",
   "execution_count": 151,
   "metadata": {},
   "outputs": [],
   "source": [
    "def predict(model_path, data_path=None, smiles=None):\n",
    "    model = tf.keras.models.load_model(model_path)\n",
    "    if (data_path is None) and (smiles is None):\n",
    "        raise Exception('No data input is given!')\n",
    "    if data_path is not None:\n",
    "        df_data = pd.read_csv(data_path)\n",
    "        df_data = validate_dataframe(df_data, predict=True)\n",
    "        if COL_TARGET not in df_data:\n",
    "            df_data[COL_TARGET] = 0\n",
    "        dataset = get_mpnn_dataset(df_data)\n",
    "        return  model.predict(dataset)\n",
    "    if smiles is not None:\n",
    "        dataset = get_mpnn_dataset(smiles)\n",
    "        return model.predict(dataset)"
   ]
  },
  {
   "cell_type": "code",
   "execution_count": 152,
   "metadata": {},
   "outputs": [
    {
     "name": "stderr",
     "output_type": "stream",
     "text": [
      "INFO:root: Data Validation | Finished!\n"
     ]
    }
   ],
   "source": [
    "predictions = predict(model_path=\"models/my_model\",\n",
    "        data_path=INTERMEDIATE_DATA_PATH/DATA_TEST_FILENAME,\n",
    "       )"
   ]
  },
  {
   "cell_type": "code",
   "execution_count": 155,
   "metadata": {},
   "outputs": [
    {
     "data": {
      "text/plain": [
       "0         Cc1cccc(N2CCN(C(=O)C34CC5CC(CC(C5)C3)C4)CC2)c1C\n",
       "1                     Cn1ccnc1SCC(=O)Nc1ccc(Oc2ccccc2)cc1\n",
       "2       COc1cc2c(cc1NC(=O)CN1C(=O)NC3(CCc4ccccc43)C1=O...\n",
       "3       O=C1/C(=C/NC2CCS(=O)(=O)C2)c2ccccc2C(=O)N1c1cc...\n",
       "4                               NC(=O)NC(Cc1ccccc1)C(=O)O\n",
       "                              ...                        \n",
       "4994         CC1CCC(NC(=O)CN2CCCN(Cc3ccc(F)cc3Cl)C2=O)CC1\n",
       "4995                  Cc1cccc(-n2cnc(C(=O)Nc3cccnc3)c2)n1\n",
       "4996                  COc1ccc(CCNC(=O)c2noc3c2CCCC3)cc1OC\n",
       "4997                             COCc1ccc2oc(C(=O)O)cc2c1\n",
       "4998        Cc1ccc(/C=C2\\C(=O)NC(=O)N(Cc3ccccc3Cl)C2=O)o1\n",
       "Name: smiles, Length: 4999, dtype: object"
      ]
     },
     "execution_count": 155,
     "metadata": {},
     "output_type": "execute_result"
    }
   ],
   "source": [
    "df[\"smiles\"]"
   ]
  },
  {
   "cell_type": "code",
   "execution_count": 150,
   "metadata": {
    "collapsed": true,
    "jupyter": {
     "outputs_hidden": true
    },
    "tags": []
   },
   "outputs": [
    {
     "data": {
      "text/plain": [
       "array([[0.5159536 ],\n",
       "       [0.56485164],\n",
       "       [0.53658825],\n",
       "       [0.5545654 ],\n",
       "       [0.5613068 ],\n",
       "       [0.54563105],\n",
       "       [0.49215645],\n",
       "       [0.5497382 ],\n",
       "       [0.51019347],\n",
       "       [0.5732583 ],\n",
       "       [0.52465665],\n",
       "       [0.53291994],\n",
       "       [0.5340168 ],\n",
       "       [0.5367876 ],\n",
       "       [0.54328936],\n",
       "       [0.550211  ],\n",
       "       [0.54901946],\n",
       "       [0.55827874],\n",
       "       [0.5512804 ],\n",
       "       [0.5823129 ],\n",
       "       [0.52714807],\n",
       "       [0.5333784 ],\n",
       "       [0.5569229 ],\n",
       "       [0.5905736 ],\n",
       "       [0.5232183 ],\n",
       "       [0.5190081 ],\n",
       "       [0.52322274],\n",
       "       [0.5147129 ],\n",
       "       [0.5402329 ],\n",
       "       [0.578955  ],\n",
       "       [0.5393267 ],\n",
       "       [0.52713054],\n",
       "       [0.58897245],\n",
       "       [0.5020621 ],\n",
       "       [0.5352524 ],\n",
       "       [0.53178567],\n",
       "       [0.5548853 ],\n",
       "       [0.53727424],\n",
       "       [0.5210109 ],\n",
       "       [0.5075571 ],\n",
       "       [0.57831657],\n",
       "       [0.53182054],\n",
       "       [0.56721884],\n",
       "       [0.55539465],\n",
       "       [0.5616628 ],\n",
       "       [0.56586933],\n",
       "       [0.5590251 ],\n",
       "       [0.53536737],\n",
       "       [0.5215794 ],\n",
       "       [0.5493042 ],\n",
       "       [0.460043  ],\n",
       "       [0.5700932 ],\n",
       "       [0.5434455 ],\n",
       "       [0.48758772],\n",
       "       [0.5574549 ],\n",
       "       [0.55313665],\n",
       "       [0.5990292 ],\n",
       "       [0.53784627],\n",
       "       [0.54302937],\n",
       "       [0.55719995],\n",
       "       [0.50987595],\n",
       "       [0.5146527 ],\n",
       "       [0.5533393 ],\n",
       "       [0.52996916],\n",
       "       [0.56271744],\n",
       "       [0.5703812 ],\n",
       "       [0.55729586],\n",
       "       [0.5185219 ],\n",
       "       [0.5907456 ],\n",
       "       [0.4848653 ],\n",
       "       [0.5598512 ],\n",
       "       [0.56069255],\n",
       "       [0.52312964],\n",
       "       [0.51654726],\n",
       "       [0.4906204 ],\n",
       "       [0.50392884],\n",
       "       [0.4853945 ],\n",
       "       [0.5514984 ],\n",
       "       [0.5952053 ],\n",
       "       [0.5311522 ],\n",
       "       [0.57255346],\n",
       "       [0.5506347 ],\n",
       "       [0.5136934 ],\n",
       "       [0.49231797],\n",
       "       [0.5672761 ],\n",
       "       [0.5029163 ],\n",
       "       [0.516066  ],\n",
       "       [0.51775366],\n",
       "       [0.5732397 ],\n",
       "       [0.5365811 ],\n",
       "       [0.4921097 ],\n",
       "       [0.5528731 ],\n",
       "       [0.53040034],\n",
       "       [0.541917  ],\n",
       "       [0.5381076 ],\n",
       "       [0.5546912 ],\n",
       "       [0.58001155],\n",
       "       [0.5772554 ],\n",
       "       [0.5600535 ],\n",
       "       [0.5041181 ],\n",
       "       [0.5912026 ],\n",
       "       [0.5030864 ],\n",
       "       [0.5143942 ],\n",
       "       [0.5624274 ],\n",
       "       [0.5546441 ],\n",
       "       [0.5607907 ],\n",
       "       [0.54149574],\n",
       "       [0.55827695],\n",
       "       [0.55355316],\n",
       "       [0.5741415 ],\n",
       "       [0.5438495 ],\n",
       "       [0.53593487],\n",
       "       [0.502932  ],\n",
       "       [0.5157105 ],\n",
       "       [0.54556566],\n",
       "       [0.5396063 ],\n",
       "       [0.56921595],\n",
       "       [0.46803948],\n",
       "       [0.553429  ],\n",
       "       [0.5198577 ],\n",
       "       [0.57565427],\n",
       "       [0.5125691 ],\n",
       "       [0.5322918 ],\n",
       "       [0.5385181 ],\n",
       "       [0.5558216 ],\n",
       "       [0.52576756],\n",
       "       [0.5128931 ],\n",
       "       [0.479955  ],\n",
       "       [0.507746  ],\n",
       "       [0.5117463 ],\n",
       "       [0.48549497],\n",
       "       [0.5769469 ],\n",
       "       [0.55514795],\n",
       "       [0.5811814 ],\n",
       "       [0.5278635 ],\n",
       "       [0.5648317 ],\n",
       "       [0.52492434],\n",
       "       [0.50479895],\n",
       "       [0.55067635],\n",
       "       [0.58576113],\n",
       "       [0.52565813],\n",
       "       [0.57162595],\n",
       "       [0.5756364 ],\n",
       "       [0.51085526],\n",
       "       [0.51746786],\n",
       "       [0.5028963 ],\n",
       "       [0.49887258],\n",
       "       [0.50407106],\n",
       "       [0.5099444 ],\n",
       "       [0.53289264],\n",
       "       [0.5669155 ],\n",
       "       [0.4996608 ],\n",
       "       [0.54514337],\n",
       "       [0.5297703 ],\n",
       "       [0.50353026],\n",
       "       [0.5193821 ],\n",
       "       [0.527231  ],\n",
       "       [0.58516943],\n",
       "       [0.47380674],\n",
       "       [0.5206973 ],\n",
       "       [0.49582943],\n",
       "       [0.54716355],\n",
       "       [0.5493667 ],\n",
       "       [0.5191867 ],\n",
       "       [0.55970776],\n",
       "       [0.5212246 ],\n",
       "       [0.506782  ],\n",
       "       [0.5272814 ],\n",
       "       [0.57458603],\n",
       "       [0.5309742 ],\n",
       "       [0.608937  ],\n",
       "       [0.59804827],\n",
       "       [0.55091494],\n",
       "       [0.5100578 ],\n",
       "       [0.5636983 ],\n",
       "       [0.5198524 ],\n",
       "       [0.49604577],\n",
       "       [0.5631487 ],\n",
       "       [0.5351451 ],\n",
       "       [0.4754276 ],\n",
       "       [0.56491965],\n",
       "       [0.51516163],\n",
       "       [0.5708748 ],\n",
       "       [0.5592669 ],\n",
       "       [0.56984895],\n",
       "       [0.57954985],\n",
       "       [0.5852834 ],\n",
       "       [0.54659724],\n",
       "       [0.5551865 ],\n",
       "       [0.5573711 ],\n",
       "       [0.55679333],\n",
       "       [0.5333255 ],\n",
       "       [0.49492764],\n",
       "       [0.51044446],\n",
       "       [0.5784822 ],\n",
       "       [0.5682974 ],\n",
       "       [0.5592185 ],\n",
       "       [0.5235274 ],\n",
       "       [0.55361694],\n",
       "       [0.51815933],\n",
       "       [0.54866064],\n",
       "       [0.53248256],\n",
       "       [0.5685776 ],\n",
       "       [0.5451657 ],\n",
       "       [0.54368895],\n",
       "       [0.5486795 ],\n",
       "       [0.5511016 ],\n",
       "       [0.591025  ],\n",
       "       [0.53866595],\n",
       "       [0.48840478],\n",
       "       [0.5388932 ],\n",
       "       [0.52885085],\n",
       "       [0.5711287 ],\n",
       "       [0.5409837 ],\n",
       "       [0.5851088 ],\n",
       "       [0.56776106],\n",
       "       [0.5487506 ],\n",
       "       [0.4726216 ],\n",
       "       [0.5247022 ],\n",
       "       [0.56544054],\n",
       "       [0.53586787],\n",
       "       [0.52409697],\n",
       "       [0.5340408 ],\n",
       "       [0.5086094 ],\n",
       "       [0.5152781 ],\n",
       "       [0.5336344 ],\n",
       "       [0.5726976 ],\n",
       "       [0.5356087 ],\n",
       "       [0.55045277],\n",
       "       [0.55086714],\n",
       "       [0.52986836],\n",
       "       [0.5059607 ],\n",
       "       [0.5706719 ],\n",
       "       [0.5521997 ],\n",
       "       [0.5316228 ],\n",
       "       [0.5207565 ],\n",
       "       [0.5263752 ],\n",
       "       [0.55051386],\n",
       "       [0.51252526],\n",
       "       [0.5348631 ],\n",
       "       [0.58114386],\n",
       "       [0.5538334 ],\n",
       "       [0.5455942 ],\n",
       "       [0.52543646],\n",
       "       [0.51445675],\n",
       "       [0.5678004 ],\n",
       "       [0.52929276],\n",
       "       [0.5740638 ],\n",
       "       [0.5766073 ],\n",
       "       [0.5459144 ],\n",
       "       [0.518731  ],\n",
       "       [0.5379026 ],\n",
       "       [0.54685724],\n",
       "       [0.5126832 ],\n",
       "       [0.52995867],\n",
       "       [0.57214046],\n",
       "       [0.5574168 ],\n",
       "       [0.56356484],\n",
       "       [0.5892142 ],\n",
       "       [0.5574765 ],\n",
       "       [0.49195632],\n",
       "       [0.4854509 ],\n",
       "       [0.53688145],\n",
       "       [0.5301366 ],\n",
       "       [0.56601757],\n",
       "       [0.52823323],\n",
       "       [0.4934293 ],\n",
       "       [0.57059056],\n",
       "       [0.46876764],\n",
       "       [0.53940946],\n",
       "       [0.5562191 ],\n",
       "       [0.5376412 ],\n",
       "       [0.53474027],\n",
       "       [0.54181886],\n",
       "       [0.5648991 ],\n",
       "       [0.5509754 ],\n",
       "       [0.4958887 ],\n",
       "       [0.4897853 ],\n",
       "       [0.5459623 ],\n",
       "       [0.5451135 ],\n",
       "       [0.5437532 ],\n",
       "       [0.5112508 ],\n",
       "       [0.4963344 ],\n",
       "       [0.5945646 ],\n",
       "       [0.5124365 ],\n",
       "       [0.55495846],\n",
       "       [0.50945854],\n",
       "       [0.57603127],\n",
       "       [0.51139724],\n",
       "       [0.49876115],\n",
       "       [0.49622017],\n",
       "       [0.51926327],\n",
       "       [0.49747014],\n",
       "       [0.5411121 ],\n",
       "       [0.56171364],\n",
       "       [0.55260897],\n",
       "       [0.5642936 ],\n",
       "       [0.51202834],\n",
       "       [0.44378722],\n",
       "       [0.54575634],\n",
       "       [0.54646933],\n",
       "       [0.5243028 ],\n",
       "       [0.53852856],\n",
       "       [0.5483203 ],\n",
       "       [0.5355128 ],\n",
       "       [0.524886  ],\n",
       "       [0.5464669 ],\n",
       "       [0.5056082 ],\n",
       "       [0.54609406],\n",
       "       [0.5472087 ],\n",
       "       [0.54740936],\n",
       "       [0.54247224],\n",
       "       [0.5404278 ],\n",
       "       [0.55565745],\n",
       "       [0.5313161 ],\n",
       "       [0.4689743 ],\n",
       "       [0.5267026 ],\n",
       "       [0.6053328 ],\n",
       "       [0.5657643 ],\n",
       "       [0.57022285],\n",
       "       [0.54759926],\n",
       "       [0.55761814],\n",
       "       [0.5206518 ],\n",
       "       [0.5554098 ],\n",
       "       [0.5393355 ],\n",
       "       [0.5621971 ],\n",
       "       [0.48930258],\n",
       "       [0.53500664],\n",
       "       [0.5665297 ],\n",
       "       [0.52470475],\n",
       "       [0.5703109 ],\n",
       "       [0.55820185],\n",
       "       [0.5492558 ],\n",
       "       [0.50277424],\n",
       "       [0.55822664],\n",
       "       [0.55617505],\n",
       "       [0.53592354],\n",
       "       [0.5896674 ],\n",
       "       [0.5049672 ],\n",
       "       [0.58788216],\n",
       "       [0.5482188 ],\n",
       "       [0.5653821 ],\n",
       "       [0.5294185 ],\n",
       "       [0.5606356 ],\n",
       "       [0.5589087 ],\n",
       "       [0.49152884],\n",
       "       [0.53097355],\n",
       "       [0.5167179 ],\n",
       "       [0.51982546],\n",
       "       [0.5637236 ],\n",
       "       [0.54538584],\n",
       "       [0.4908465 ],\n",
       "       [0.5422239 ],\n",
       "       [0.53518647],\n",
       "       [0.534739  ],\n",
       "       [0.55840343],\n",
       "       [0.52720153],\n",
       "       [0.5243188 ],\n",
       "       [0.49805543],\n",
       "       [0.5233313 ],\n",
       "       [0.59635615],\n",
       "       [0.5123839 ],\n",
       "       [0.5854677 ],\n",
       "       [0.5510405 ],\n",
       "       [0.5439046 ],\n",
       "       [0.5520599 ],\n",
       "       [0.5675765 ],\n",
       "       [0.55989146],\n",
       "       [0.56464326],\n",
       "       [0.54028934],\n",
       "       [0.5260593 ],\n",
       "       [0.52403015],\n",
       "       [0.5601762 ],\n",
       "       [0.5297415 ],\n",
       "       [0.5770783 ],\n",
       "       [0.53458256],\n",
       "       [0.52767   ],\n",
       "       [0.5868525 ],\n",
       "       [0.5482691 ],\n",
       "       [0.5623183 ],\n",
       "       [0.51462406],\n",
       "       [0.5707204 ],\n",
       "       [0.5603931 ],\n",
       "       [0.49469006],\n",
       "       [0.55788225],\n",
       "       [0.519195  ],\n",
       "       [0.530864  ],\n",
       "       [0.5201806 ],\n",
       "       [0.5586953 ],\n",
       "       [0.5675506 ],\n",
       "       [0.4851089 ],\n",
       "       [0.621917  ],\n",
       "       [0.50406164],\n",
       "       [0.5505654 ],\n",
       "       [0.51892114],\n",
       "       [0.54041934],\n",
       "       [0.539158  ],\n",
       "       [0.5298508 ],\n",
       "       [0.4766859 ],\n",
       "       [0.54859626],\n",
       "       [0.48504037],\n",
       "       [0.5188926 ],\n",
       "       [0.5492283 ],\n",
       "       [0.5842784 ],\n",
       "       [0.572724  ],\n",
       "       [0.57399875],\n",
       "       [0.57213944],\n",
       "       [0.53961045],\n",
       "       [0.514557  ],\n",
       "       [0.5217062 ],\n",
       "       [0.5350619 ],\n",
       "       [0.54049176],\n",
       "       [0.49854857],\n",
       "       [0.5976139 ],\n",
       "       [0.55476546],\n",
       "       [0.55868894],\n",
       "       [0.55902064],\n",
       "       [0.5829577 ],\n",
       "       [0.5509182 ],\n",
       "       [0.5185954 ],\n",
       "       [0.55182135],\n",
       "       [0.56700045],\n",
       "       [0.5589243 ],\n",
       "       [0.54403394],\n",
       "       [0.49303177],\n",
       "       [0.518154  ],\n",
       "       [0.5299592 ],\n",
       "       [0.5361183 ],\n",
       "       [0.53444016],\n",
       "       [0.5394645 ],\n",
       "       [0.5295673 ],\n",
       "       [0.58666676],\n",
       "       [0.5583073 ],\n",
       "       [0.49123627],\n",
       "       [0.55914265],\n",
       "       [0.49106616],\n",
       "       [0.5729814 ],\n",
       "       [0.560043  ],\n",
       "       [0.52258575],\n",
       "       [0.51953256],\n",
       "       [0.5079912 ],\n",
       "       [0.52542394],\n",
       "       [0.5100458 ],\n",
       "       [0.48942035],\n",
       "       [0.5094527 ],\n",
       "       [0.52397174],\n",
       "       [0.5307002 ],\n",
       "       [0.54260725],\n",
       "       [0.50208855],\n",
       "       [0.49985445],\n",
       "       [0.5624975 ],\n",
       "       [0.54956186],\n",
       "       [0.5331391 ],\n",
       "       [0.5226844 ],\n",
       "       [0.4854946 ],\n",
       "       [0.5828926 ],\n",
       "       [0.536596  ],\n",
       "       [0.5426768 ],\n",
       "       [0.52580726],\n",
       "       [0.5254153 ],\n",
       "       [0.5261677 ],\n",
       "       [0.48797378],\n",
       "       [0.5053067 ],\n",
       "       [0.54046506],\n",
       "       [0.5860465 ],\n",
       "       [0.5850164 ],\n",
       "       [0.55317026],\n",
       "       [0.49590042],\n",
       "       [0.5305271 ],\n",
       "       [0.51301634],\n",
       "       [0.566168  ],\n",
       "       [0.5530177 ],\n",
       "       [0.50459653],\n",
       "       [0.57581186],\n",
       "       [0.53349   ],\n",
       "       [0.45947605],\n",
       "       [0.5677506 ],\n",
       "       [0.55058974],\n",
       "       [0.52164495],\n",
       "       [0.57569444],\n",
       "       [0.51576144],\n",
       "       [0.49782932],\n",
       "       [0.55402154],\n",
       "       [0.5816296 ],\n",
       "       [0.570582  ],\n",
       "       [0.5941785 ],\n",
       "       [0.5692105 ],\n",
       "       [0.4961745 ],\n",
       "       [0.5051707 ],\n",
       "       [0.55488336],\n",
       "       [0.53464377],\n",
       "       [0.49957877],\n",
       "       [0.52511483],\n",
       "       [0.5777944 ],\n",
       "       [0.5542219 ],\n",
       "       [0.5514292 ],\n",
       "       [0.5893402 ],\n",
       "       [0.5616163 ],\n",
       "       [0.55076313],\n",
       "       [0.51350605],\n",
       "       [0.5112817 ],\n",
       "       [0.5347842 ],\n",
       "       [0.5458475 ],\n",
       "       [0.48378894],\n",
       "       [0.562155  ],\n",
       "       [0.47181255],\n",
       "       [0.546357  ],\n",
       "       [0.4896984 ],\n",
       "       [0.55814576],\n",
       "       [0.5322493 ],\n",
       "       [0.5607129 ],\n",
       "       [0.51074183],\n",
       "       [0.51165473],\n",
       "       [0.5634865 ],\n",
       "       [0.55475616],\n",
       "       [0.53453887],\n",
       "       [0.51259416],\n",
       "       [0.5896498 ],\n",
       "       [0.55090606],\n",
       "       [0.49174863],\n",
       "       [0.6035118 ],\n",
       "       [0.539716  ],\n",
       "       [0.5493117 ],\n",
       "       [0.50698173],\n",
       "       [0.57233036],\n",
       "       [0.57905424],\n",
       "       [0.6183849 ],\n",
       "       [0.5363838 ],\n",
       "       [0.58062506],\n",
       "       [0.5523877 ],\n",
       "       [0.5250803 ],\n",
       "       [0.5320689 ],\n",
       "       [0.47250846],\n",
       "       [0.48860693],\n",
       "       [0.5069315 ],\n",
       "       [0.53421605],\n",
       "       [0.49226362],\n",
       "       [0.5399972 ],\n",
       "       [0.5005537 ],\n",
       "       [0.5479843 ],\n",
       "       [0.54943854],\n",
       "       [0.54701483],\n",
       "       [0.5048691 ],\n",
       "       [0.555519  ],\n",
       "       [0.52280647],\n",
       "       [0.5230113 ],\n",
       "       [0.5804943 ],\n",
       "       [0.5639018 ],\n",
       "       [0.52535623],\n",
       "       [0.48289987],\n",
       "       [0.5640523 ],\n",
       "       [0.59740144],\n",
       "       [0.5644419 ],\n",
       "       [0.56329054],\n",
       "       [0.57834685],\n",
       "       [0.5140629 ],\n",
       "       [0.5401093 ],\n",
       "       [0.5328797 ],\n",
       "       [0.5018443 ],\n",
       "       [0.50133824],\n",
       "       [0.521715  ],\n",
       "       [0.5622813 ],\n",
       "       [0.51618934],\n",
       "       [0.5407904 ],\n",
       "       [0.53358454],\n",
       "       [0.5383633 ],\n",
       "       [0.55095035],\n",
       "       [0.5723538 ],\n",
       "       [0.563391  ],\n",
       "       [0.52638865],\n",
       "       [0.47402403],\n",
       "       [0.5256798 ],\n",
       "       [0.54052335],\n",
       "       [0.5175682 ],\n",
       "       [0.5284166 ],\n",
       "       [0.5077625 ],\n",
       "       [0.5009058 ],\n",
       "       [0.5746192 ],\n",
       "       [0.52946156],\n",
       "       [0.4838108 ],\n",
       "       [0.5163353 ],\n",
       "       [0.5415603 ],\n",
       "       [0.5033597 ],\n",
       "       [0.5623032 ],\n",
       "       [0.51611584],\n",
       "       [0.53579664],\n",
       "       [0.50470906],\n",
       "       [0.5629904 ],\n",
       "       [0.4941796 ],\n",
       "       [0.55942893],\n",
       "       [0.510226  ],\n",
       "       [0.5566339 ],\n",
       "       [0.5376381 ],\n",
       "       [0.5694764 ],\n",
       "       [0.5660685 ],\n",
       "       [0.576291  ],\n",
       "       [0.5998882 ],\n",
       "       [0.5747625 ],\n",
       "       [0.57070595],\n",
       "       [0.47673056],\n",
       "       [0.544524  ],\n",
       "       [0.5304076 ],\n",
       "       [0.51105607],\n",
       "       [0.5260223 ],\n",
       "       [0.56667197],\n",
       "       [0.53781754],\n",
       "       [0.56900674],\n",
       "       [0.52527016],\n",
       "       [0.5539584 ],\n",
       "       [0.5461668 ],\n",
       "       [0.5768238 ],\n",
       "       [0.5276712 ],\n",
       "       [0.5553648 ],\n",
       "       [0.5099891 ],\n",
       "       [0.5313968 ],\n",
       "       [0.56435657],\n",
       "       [0.56937575],\n",
       "       [0.5388503 ],\n",
       "       [0.55066556],\n",
       "       [0.5405006 ],\n",
       "       [0.5332942 ],\n",
       "       [0.52462554],\n",
       "       [0.49354094],\n",
       "       [0.56389886],\n",
       "       [0.5411007 ],\n",
       "       [0.5422632 ],\n",
       "       [0.5674261 ],\n",
       "       [0.51874197],\n",
       "       [0.56688374],\n",
       "       [0.55537   ],\n",
       "       [0.5588873 ],\n",
       "       [0.59020156],\n",
       "       [0.5343813 ],\n",
       "       [0.55355376],\n",
       "       [0.53332686],\n",
       "       [0.532743  ],\n",
       "       [0.53643876],\n",
       "       [0.49006882],\n",
       "       [0.5799368 ],\n",
       "       [0.5754786 ],\n",
       "       [0.5597395 ],\n",
       "       [0.50353366],\n",
       "       [0.5626311 ],\n",
       "       [0.5611447 ],\n",
       "       [0.5490908 ],\n",
       "       [0.5452603 ],\n",
       "       [0.52302855],\n",
       "       [0.51114786],\n",
       "       [0.49480563],\n",
       "       [0.5512073 ],\n",
       "       [0.5414979 ],\n",
       "       [0.5684778 ],\n",
       "       [0.5641777 ],\n",
       "       [0.5209794 ],\n",
       "       [0.57324284],\n",
       "       [0.5133338 ],\n",
       "       [0.5614028 ],\n",
       "       [0.5491907 ],\n",
       "       [0.53821355],\n",
       "       [0.5437093 ],\n",
       "       [0.51844317],\n",
       "       [0.5507148 ],\n",
       "       [0.57884705],\n",
       "       [0.57282794],\n",
       "       [0.54871696],\n",
       "       [0.5508061 ],\n",
       "       [0.53876317],\n",
       "       [0.501013  ],\n",
       "       [0.474031  ],\n",
       "       [0.5108333 ],\n",
       "       [0.5633608 ],\n",
       "       [0.5220103 ],\n",
       "       [0.48320138],\n",
       "       [0.47306517],\n",
       "       [0.49426976],\n",
       "       [0.56864417],\n",
       "       [0.56208813],\n",
       "       [0.5639252 ],\n",
       "       [0.5224618 ],\n",
       "       [0.4736656 ],\n",
       "       [0.519795  ],\n",
       "       [0.54933894],\n",
       "       [0.54427767],\n",
       "       [0.53355324],\n",
       "       [0.5228984 ],\n",
       "       [0.57174855],\n",
       "       [0.5289667 ],\n",
       "       [0.5493331 ],\n",
       "       [0.5554818 ],\n",
       "       [0.56105274],\n",
       "       [0.55747247],\n",
       "       [0.5574171 ],\n",
       "       [0.55634296],\n",
       "       [0.556388  ],\n",
       "       [0.5112983 ],\n",
       "       [0.4733655 ],\n",
       "       [0.52297336],\n",
       "       [0.5759883 ],\n",
       "       [0.5325    ],\n",
       "       [0.57145643],\n",
       "       [0.5446869 ],\n",
       "       [0.5219413 ],\n",
       "       [0.5164879 ],\n",
       "       [0.48972607],\n",
       "       [0.5319233 ],\n",
       "       [0.53075325],\n",
       "       [0.53131855],\n",
       "       [0.52696574],\n",
       "       [0.5933661 ],\n",
       "       [0.5973593 ],\n",
       "       [0.5678774 ],\n",
       "       [0.54575354],\n",
       "       [0.51329017],\n",
       "       [0.55265784],\n",
       "       [0.5468093 ],\n",
       "       [0.5292779 ],\n",
       "       [0.57152873],\n",
       "       [0.54044557],\n",
       "       [0.50403225],\n",
       "       [0.52012795],\n",
       "       [0.52828646],\n",
       "       [0.46955535],\n",
       "       [0.5249176 ],\n",
       "       [0.56313604],\n",
       "       [0.51301455],\n",
       "       [0.5387194 ],\n",
       "       [0.51684326],\n",
       "       [0.54752296],\n",
       "       [0.5196417 ],\n",
       "       [0.5849617 ],\n",
       "       [0.5146059 ],\n",
       "       [0.52250636],\n",
       "       [0.48243445],\n",
       "       [0.5594603 ],\n",
       "       [0.53065956],\n",
       "       [0.55837655],\n",
       "       [0.52780455],\n",
       "       [0.5779008 ],\n",
       "       [0.5814246 ],\n",
       "       [0.5383371 ],\n",
       "       [0.51288503],\n",
       "       [0.50616837],\n",
       "       [0.5609579 ],\n",
       "       [0.5478605 ],\n",
       "       [0.58063823],\n",
       "       [0.5548163 ],\n",
       "       [0.5195688 ],\n",
       "       [0.5363254 ],\n",
       "       [0.5741779 ],\n",
       "       [0.50899273]], dtype=float32)"
      ]
     },
     "execution_count": 150,
     "metadata": {},
     "output_type": "execute_result"
    }
   ],
   "source": [
    "predictions"
   ]
  },
  {
   "cell_type": "code",
   "execution_count": 157,
   "metadata": {},
   "outputs": [
    {
     "data": {
      "text/plain": [
       "array([[0.54842335],\n",
       "       [0.5827183 ]], dtype=float32)"
      ]
     },
     "execution_count": 157,
     "metadata": {},
     "output_type": "execute_result"
    }
   ],
   "source": [
    "predict(model_path=\"models/my_model\", smiles=[\"Cc1cccc(N2CCN(C(=O)C34CC5CC(CC(C5)C3)C4)CC2)c1C\",\n",
    "                                             \"Cn1ccnc1SCC(=O)Nc1ccc(Oc2ccccc2)cc1\"])"
   ]
  },
  {
   "cell_type": "code",
   "execution_count": null,
   "metadata": {},
   "outputs": [],
   "source": []
  }
 ],
 "metadata": {
  "accelerator": "GPU",
  "colab": {
   "collapsed_sections": [],
   "name": "Copie de mpnn-molecular-graphs",
   "provenance": []
  },
  "kernelspec": {
   "display_name": "env_3.8_servier",
   "language": "python",
   "name": "env_3.8_servier"
  },
  "language_info": {
   "codemirror_mode": {
    "name": "ipython",
    "version": 3
   },
   "file_extension": ".py",
   "mimetype": "text/x-python",
   "name": "python",
   "nbconvert_exporter": "python",
   "pygments_lexer": "ipython3",
   "version": "3.8.13"
  }
 },
 "nbformat": 4,
 "nbformat_minor": 4
}
