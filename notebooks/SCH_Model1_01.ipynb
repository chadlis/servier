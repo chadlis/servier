{
 "cells": [
  {
   "cell_type": "code",
   "execution_count": null,
   "metadata": {
    "colab": {
     "base_uri": "https://localhost:8080/"
    },
    "id": "bESDE-xN6hmo",
    "outputId": "a4578f38-171c-4530-af66-9a8e774d88e9"
   },
   "outputs": [],
   "source": [
    "#!pip install rdkit-pypi\n",
    "#!pip install tensorflow_datasets\n",
    "#!pip install --upgrade tensorflow"
   ]
  },
  {
   "cell_type": "code",
   "execution_count": 5,
   "metadata": {},
   "outputs": [],
   "source": [
    "#!pip install -e ../."
   ]
  },
  {
   "cell_type": "code",
   "execution_count": 8,
   "metadata": {},
   "outputs": [],
   "source": [
    "import rdkit\n"
   ]
  },
  {
   "cell_type": "code",
   "execution_count": 14,
   "metadata": {},
   "outputs": [],
   "source": [
    "from feature_extractor import fingerprint_features"
   ]
  },
  {
   "cell_type": "code",
   "execution_count": null,
   "metadata": {
    "id": "84e2cSY168VI"
   },
   "outputs": [],
   "source": [
    "import numpy as np\n",
    "\n",
    "import tensorflow_datasets as tfds\n",
    "import tensorflow as tf\n",
    "\n",
    "tfds.disable_progress_bar()"
   ]
  },
  {
   "cell_type": "code",
   "execution_count": 31,
   "metadata": {
    "id": "lyhYxUAm6k8v"
   },
   "outputs": [],
   "source": [
    "import matplotlib.pyplot as plt\n",
    "\n",
    "\n",
    "def plot_graphs(history, metric):\n",
    "    plt.plot(history.history[metric])\n",
    "    plt.plot(history.history['val_'+metric], '')\n",
    "    plt.xlabel(\"Epochs\")\n",
    "    plt.ylabel(metric)\n",
    "    plt.legend([metric, 'val_'+metric])"
   ]
  },
  {
   "cell_type": "code",
   "execution_count": 32,
   "metadata": {
    "id": "LYWa8AKm7UBY"
   },
   "outputs": [],
   "source": [
    "import numpy as np\n",
    "def get_fingerprint(smiles):\n",
    "    return np.frombuffer(fingerprint_features(smiles).ToBitString().encode(), 'u1') - ord('0')"
   ]
  },
  {
   "cell_type": "code",
   "execution_count": 22,
   "metadata": {
    "id": "jzVzldGv659F"
   },
   "outputs": [],
   "source": [
    "import pandas as pd\n",
    "data = pd.read_csv(\"../data/0_raw/data.csv\").drop(\"mol_id\", axis=1)\n",
    "#data[\"fingerprint\"] = data[\"smiles\"].apply(get_fingerprint)"
   ]
  },
  {
   "cell_type": "code",
   "execution_count": 34,
   "metadata": {
    "id": "Xxt1rhia-jT6"
   },
   "outputs": [],
   "source": [
    "X = data[\"smiles\"].values\n",
    "y = data[\"P1\"].values"
   ]
  },
  {
   "cell_type": "code",
   "execution_count": 35,
   "metadata": {
    "id": "Er_Ir7qy7nUR"
   },
   "outputs": [],
   "source": [
    "from sklearn.model_selection import train_test_split\n",
    "X_train, X_test, y_train, y_test = train_test_split(X, y, test_size=0.15, random_state=42, stratify=y)"
   ]
  },
  {
   "cell_type": "code",
   "execution_count": 37,
   "metadata": {
    "colab": {
     "base_uri": "https://localhost:8080/"
    },
    "id": "-ldANioQ--xU",
    "outputId": "c0348b0f-be93-440a-f266-81b92d9ea465"
   },
   "outputs": [
    {
     "data": {
      "text/plain": [
       "(4249, 750)"
      ]
     },
     "execution_count": 37,
     "metadata": {},
     "output_type": "execute_result"
    }
   ],
   "source": [
    "len(X_train_fingerprint), len(X_test_fingerprint)"
   ]
  },
  {
   "cell_type": "code",
   "execution_count": 38,
   "metadata": {
    "id": "x0OsB8zzA-EL"
   },
   "outputs": [],
   "source": [
    "train_features = np.float_(X_train_fingerprint)\n",
    "train_labels = y_train\n",
    "test_features = np.float_(X_test_fingerprint)\n",
    "test_labels = y_test\n"
   ]
  },
  {
   "cell_type": "code",
   "execution_count": 39,
   "metadata": {
    "colab": {
     "base_uri": "https://localhost:8080/"
    },
    "id": "ZsO0UNixBScU",
    "outputId": "726c9e51-9eb0-4285-b8de-967f785db966"
   },
   "outputs": [
    {
     "data": {
      "text/plain": [
       "(4249, 4249)"
      ]
     },
     "execution_count": 39,
     "metadata": {},
     "output_type": "execute_result"
    }
   ],
   "source": [
    "len(train_features), len(y_train)"
   ]
  },
  {
   "cell_type": "code",
   "execution_count": 46,
   "metadata": {
    "id": "u5gY2Fv3GBgD"
   },
   "outputs": [],
   "source": [
    "import tensorflow as tf\n",
    "model = tf.keras.Sequential([\n",
    "  tf.keras.layers.Dense(56, input_shape=(2048,)),\n",
    "  tf.keras.layers.Dropout(0.6),\n",
    "  tf.keras.layers.Dense(56, activation='relu'),\n",
    "  tf.keras.layers.Dropout(0.4),\n",
    "  tf.keras.layers.Dense(1,activation=\"sigmoid\"),\n",
    "  ])\n",
    "model.compile(optimizer=tf.keras.optimizers.Adam(learning_rate=0.0001),\n",
    "              loss=tf.keras.losses.BinaryCrossentropy(from_logits=False),\n",
    "              metrics=['accuracy'])"
   ]
  },
  {
   "cell_type": "code",
   "execution_count": 50,
   "metadata": {},
   "outputs": [
    {
     "name": "stdout",
     "output_type": "stream",
     "text": [
      "Model: \"servier_model\"\n",
      "_________________________________________________________________\n",
      " Layer (type)                Output Shape              Param #   \n",
      "=================================================================\n",
      " input_3 (InputLayer)        [(None, 2048)]            0         \n",
      "                                                                 \n",
      " dense_21 (Dense)            (None, 30)                61470     \n",
      "                                                                 \n",
      " dense_22 (Dense)            (None, 1)                 31        \n",
      "                                                                 \n",
      "=================================================================\n",
      "Total params: 61,501\n",
      "Trainable params: 61,501\n",
      "Non-trainable params: 0\n",
      "_________________________________________________________________\n"
     ]
    }
   ],
   "source": [
    "inputs = keras.Input(shape=(2048,))\n",
    "x = keras.layers.Dense(30, activation=\"relu\")(inputs)\n",
    "outputs = keras.layers.Dense(1, activation='sigmoid',)(x)\n",
    "model = keras.Model(inputs=inputs, outputs=outputs, name=\"servier_model\")\n",
    "model.summary()"
   ]
  },
  {
   "cell_type": "code",
   "execution_count": 61,
   "metadata": {
    "id": "y9lcF2LhAcvC"
   },
   "outputs": [],
   "source": [
    "from tensorflow import keras\n",
    "METRICS = [\n",
    "      #keras.metrics.TruePositives(name='tp'),\n",
    "      #keras.metrics.FalsePositives(name='fp'),\n",
    "      #keras.metrics.TrueNegatives(name='tn'),\n",
    "      #keras.metrics.FalseNegatives(name='fn'), \n",
    "      keras.metrics.BinaryAccuracy(name='accuracy'),\n",
    "      keras.metrics.Precision(name='precision'),\n",
    "      keras.metrics.Recall(name='recall'),\n",
    "      keras.metrics.AUC(name='auc'),\n",
    "      keras.metrics.AUC(name='prc', curve='PR'), # precision-recall curve\n",
    "]\n",
    "\n",
    "def make_model(metrics=METRICS, output_bias=None):\n",
    "    if output_bias is not None:\n",
    "        output_bias = tf.keras.initializers.Constant(output_bias)\n",
    "    #inputs = keras.Input(shape=(2048,))\n",
    "    #keras.layers.Dense(30, activation=\"relu\")\n",
    "    model = keras.Sequential([\n",
    "      keras.layers.Dense(\n",
    "          16, activation='relu',\n",
    "          input_shape=(2048,)),\n",
    "      keras.layers.Dropout(0.5),\n",
    "      keras.layers.Dense(1, activation='sigmoid',\n",
    "                         bias_initializer=output_bias),\n",
    "    ])\n",
    "\n",
    "    model.compile(\n",
    "      optimizer=keras.optimizers.Adam(learning_rate=1e-3),\n",
    "      loss=keras.losses.BinaryCrossentropy(),\n",
    "      metrics=metrics)\n",
    "\n",
    "    return model"
   ]
  },
  {
   "cell_type": "code",
   "execution_count": 62,
   "metadata": {
    "id": "H5bTZ9UZAcxv"
   },
   "outputs": [],
   "source": [
    "EPOCHS = 100\n",
    "BATCH_SIZE = 128\n",
    "\n",
    "early_stopping = tf.keras.callbacks.EarlyStopping(\n",
    "    monitor='val_prc', \n",
    "    verbose=1,\n",
    "    patience=10,\n",
    "    mode='max',\n",
    "    restore_best_weights=True)"
   ]
  },
  {
   "cell_type": "code",
   "execution_count": 63,
   "metadata": {},
   "outputs": [],
   "source": [
    "\n",
    "def make_model(metrics=METRICS, output_bias=None):\n",
    "    if output_bias is not None:\n",
    "        output_bias = tf.keras.initializers.Constant(output_bias)\n",
    "    inputs = keras.Input(shape=(2048,))\n",
    "    x = keras.layers.Dense(30, activation=\"relu\")(inputs)\n",
    "    outputs = keras.layers.Dense(1, activation='sigmoid',)(x)\n",
    "    model = keras.Model(inputs=inputs, outputs=outputs, name=\"servier_model\")\n",
    "    \n",
    "    model.compile(\n",
    "      optimizer=keras.optimizers.Adam(learning_rate=1e-3),\n",
    "      loss=keras.losses.BinaryCrossentropy(),\n",
    "      metrics=metrics)\n",
    "\n",
    "    return model"
   ]
  },
  {
   "cell_type": "code",
   "execution_count": 64,
   "metadata": {
    "colab": {
     "base_uri": "https://localhost:8080/"
    },
    "id": "3QjNB9TgAwCi",
    "outputId": "fd349710-e51b-4af8-e754-d8b1fc4ae856"
   },
   "outputs": [
    {
     "name": "stdout",
     "output_type": "stream",
     "text": [
      "Model: \"servier_model\"\n",
      "_________________________________________________________________\n",
      " Layer (type)                Output Shape              Param #   \n",
      "=================================================================\n",
      " input_9 (InputLayer)        [(None, 2048)]            0         \n",
      "                                                                 \n",
      " dense_33 (Dense)            (None, 30)                61470     \n",
      "                                                                 \n",
      " dense_34 (Dense)            (None, 1)                 31        \n",
      "                                                                 \n",
      "=================================================================\n",
      "Total params: 61,501\n",
      "Trainable params: 61,501\n",
      "Non-trainable params: 0\n",
      "_________________________________________________________________\n"
     ]
    }
   ],
   "source": [
    "model = make_model()\n",
    "model.summary()"
   ]
  },
  {
   "cell_type": "code",
   "execution_count": 65,
   "metadata": {
    "colab": {
     "base_uri": "https://localhost:8080/"
    },
    "collapsed": true,
    "id": "suLtGZQXCnum",
    "jupyter": {
     "outputs_hidden": true
    },
    "outputId": "cbc0ee80-ab96-4592-d645-1582a0fcaf10",
    "tags": []
   },
   "outputs": [
    {
     "name": "stdout",
     "output_type": "stream",
     "text": [
      "Epoch 1/100\n"
     ]
    },
    {
     "name": "stderr",
     "output_type": "stream",
     "text": [
      "2022-04-14 13:41:23.090516: I tensorflow/core/grappler/optimizers/custom_graph_optimizer_registry.cc:113] Plugin optimizer for device_type GPU is enabled.\n"
     ]
    },
    {
     "name": "stdout",
     "output_type": "stream",
     "text": [
      "27/27 [==============================] - ETA: 0s - loss: 0.5724 - accuracy: 0.7132 - precision: 0.8168 - recall: 0.8387 - auc: 0.4956 - prc: 0.8233   "
     ]
    },
    {
     "name": "stderr",
     "output_type": "stream",
     "text": [
      "2022-04-14 13:41:23.992945: I tensorflow/core/grappler/optimizers/custom_graph_optimizer_registry.cc:113] Plugin optimizer for device_type GPU is enabled.\n"
     ]
    },
    {
     "name": "stdout",
     "output_type": "stream",
     "text": [
      "27/27 [==============================] - 2s 38ms/step - loss: 0.5724 - accuracy: 0.7132 - precision: 0.8168 - recall: 0.8387 - auc: 0.4956 - prc: 0.8233 - val_loss: 0.4616 - val_accuracy: 0.8259 - val_precision: 0.8259 - val_recall: 1.0000 - val_auc: 0.5472 - val_prc: 0.8638\n",
      "Epoch 2/100\n",
      "27/27 [==============================] - 0s 18ms/step - loss: 0.4539 - accuracy: 0.8208 - precision: 0.8208 - recall: 1.0000 - auc: 0.6356 - prc: 0.8878 - val_loss: 0.4470 - val_accuracy: 0.8259 - val_precision: 0.8259 - val_recall: 1.0000 - val_auc: 0.6320 - val_prc: 0.8888\n",
      "Epoch 3/100\n",
      "27/27 [==============================] - 0s 18ms/step - loss: 0.4244 - accuracy: 0.8208 - precision: 0.8208 - recall: 1.0000 - auc: 0.7507 - prc: 0.9266 - val_loss: 0.4379 - val_accuracy: 0.8259 - val_precision: 0.8259 - val_recall: 1.0000 - val_auc: 0.6622 - val_prc: 0.8989\n",
      "Epoch 4/100\n",
      "27/27 [==============================] - 0s 18ms/step - loss: 0.4015 - accuracy: 0.8220 - precision: 0.8220 - recall: 0.9996 - auc: 0.7965 - prc: 0.9419 - val_loss: 0.4341 - val_accuracy: 0.8282 - val_precision: 0.8278 - val_recall: 1.0000 - val_auc: 0.6709 - val_prc: 0.9018\n",
      "Epoch 5/100\n",
      "27/27 [==============================] - 1s 19ms/step - loss: 0.3790 - accuracy: 0.8302 - precision: 0.8300 - recall: 0.9975 - auc: 0.8293 - prc: 0.9537 - val_loss: 0.4342 - val_accuracy: 0.8306 - val_precision: 0.8298 - val_recall: 1.0000 - val_auc: 0.6739 - val_prc: 0.9034\n",
      "Epoch 6/100\n",
      "27/27 [==============================] - 0s 18ms/step - loss: 0.3566 - accuracy: 0.8364 - precision: 0.8371 - recall: 0.9943 - auc: 0.8570 - prc: 0.9621 - val_loss: 0.4349 - val_accuracy: 0.8271 - val_precision: 0.8292 - val_recall: 0.9957 - val_auc: 0.6761 - val_prc: 0.9062\n",
      "Epoch 7/100\n",
      "27/27 [==============================] - 0s 17ms/step - loss: 0.3350 - accuracy: 0.8520 - precision: 0.8511 - recall: 0.9935 - auc: 0.8800 - prc: 0.9688 - val_loss: 0.4370 - val_accuracy: 0.8224 - val_precision: 0.8315 - val_recall: 0.9843 - val_auc: 0.6752 - val_prc: 0.9078\n",
      "Epoch 8/100\n",
      "27/27 [==============================] - 0s 17ms/step - loss: 0.3127 - accuracy: 0.8644 - precision: 0.8629 - recall: 0.9925 - auc: 0.9039 - prc: 0.9757 - val_loss: 0.4429 - val_accuracy: 0.8247 - val_precision: 0.8335 - val_recall: 0.9843 - val_auc: 0.6687 - val_prc: 0.9047\n",
      "Epoch 9/100\n",
      "27/27 [==============================] - 0s 18ms/step - loss: 0.2917 - accuracy: 0.8779 - precision: 0.8778 - recall: 0.9889 - auc: 0.9205 - prc: 0.9800 - val_loss: 0.4481 - val_accuracy: 0.8212 - val_precision: 0.8329 - val_recall: 0.9801 - val_auc: 0.6673 - val_prc: 0.9054\n",
      "Epoch 10/100\n",
      "27/27 [==============================] - 1s 19ms/step - loss: 0.2700 - accuracy: 0.8897 - precision: 0.8886 - recall: 0.9896 - auc: 0.9368 - prc: 0.9843 - val_loss: 0.4572 - val_accuracy: 0.8165 - val_precision: 0.8346 - val_recall: 0.9701 - val_auc: 0.6611 - val_prc: 0.9042\n",
      "Epoch 11/100\n",
      "27/27 [==============================] - 0s 18ms/step - loss: 0.2503 - accuracy: 0.9009 - precision: 0.8994 - recall: 0.9900 - auc: 0.9496 - prc: 0.9876 - val_loss: 0.4656 - val_accuracy: 0.8118 - val_precision: 0.8362 - val_recall: 0.9601 - val_auc: 0.6603 - val_prc: 0.9046\n",
      "Epoch 12/100\n",
      "27/27 [==============================] - 1s 21ms/step - loss: 0.2312 - accuracy: 0.9150 - precision: 0.9131 - recall: 0.9907 - auc: 0.9588 - prc: 0.9899 - val_loss: 0.4777 - val_accuracy: 0.8141 - val_precision: 0.8383 - val_recall: 0.9601 - val_auc: 0.6538 - val_prc: 0.9012\n",
      "Epoch 13/100\n",
      "27/27 [==============================] - 1s 19ms/step - loss: 0.2137 - accuracy: 0.9241 - precision: 0.9226 - recall: 0.9907 - auc: 0.9665 - prc: 0.9919 - val_loss: 0.4888 - val_accuracy: 0.8129 - val_precision: 0.8398 - val_recall: 0.9558 - val_auc: 0.6509 - val_prc: 0.9009\n",
      "Epoch 14/100\n",
      "27/27 [==============================] - 1s 19ms/step - loss: 0.1972 - accuracy: 0.9356 - precision: 0.9350 - recall: 0.9903 - auc: 0.9742 - prc: 0.9938 - val_loss: 0.5055 - val_accuracy: 0.8153 - val_precision: 0.8377 - val_recall: 0.9630 - val_auc: 0.6441 - val_prc: 0.8950\n",
      "Epoch 15/100\n",
      "27/27 [==============================] - 1s 19ms/step - loss: 0.1816 - accuracy: 0.9409 - precision: 0.9399 - recall: 0.9914 - auc: 0.9801 - prc: 0.9953 - val_loss: 0.5129 - val_accuracy: 0.7988 - val_precision: 0.8391 - val_recall: 0.9359 - val_auc: 0.6423 - val_prc: 0.8948\n",
      "Epoch 16/100\n",
      "27/27 [==============================] - 0s 18ms/step - loss: 0.1672 - accuracy: 0.9532 - precision: 0.9538 - recall: 0.9910 - auc: 0.9836 - prc: 0.9961 - val_loss: 0.5255 - val_accuracy: 0.8082 - val_precision: 0.8407 - val_recall: 0.9473 - val_auc: 0.6409 - val_prc: 0.8926\n",
      "Epoch 17/100\n",
      "25/27 [==========================>...] - ETA: 0s - loss: 0.1548 - accuracy: 0.9600 - precision: 0.9588 - recall: 0.9939 - auc: 0.9875 - prc: 0.9971Restoring model weights from the end of the best epoch: 7.\n",
      "27/27 [==============================] - 0s 18ms/step - loss: 0.1541 - accuracy: 0.9597 - precision: 0.9588 - recall: 0.9935 - auc: 0.9879 - prc: 0.9972 - val_loss: 0.5382 - val_accuracy: 0.8012 - val_precision: 0.8421 - val_recall: 0.9345 - val_auc: 0.6375 - val_prc: 0.8911\n",
      "Epoch 17: early stopping\n"
     ]
    }
   ],
   "source": [
    "history = model.fit(\n",
    "    train_features,\n",
    "    train_labels,\n",
    "    batch_size=BATCH_SIZE,\n",
    "    epochs=EPOCHS,\n",
    "    callbacks=[early_stopping],\n",
    "    validation_split=0.2,\n",
    "    #validation_data=(test_features, test_labels),\n",
    "    )"
   ]
  },
  {
   "cell_type": "code",
   "execution_count": 65,
   "metadata": {
    "colab": {
     "base_uri": "https://localhost:8080/"
    },
    "id": "SrqT6fPKDm9v",
    "outputId": "5d75f9b8-4db8-4848-9f57-1455ee609d18"
   },
   "outputs": [
    {
     "name": "stdout",
     "output_type": "stream",
     "text": [
      "Weight for class 0: 2.81\n",
      "Weight for class 1: 0.61\n"
     ]
    }
   ],
   "source": [
    "# Scaling by total/2 helps keep the loss to a similar magnitude.\n",
    "# The sum of the weights of all examples stays the same.\n",
    "total = neg + pos\n",
    "weight_for_0 = (1 / neg) * (total / 2.0)\n",
    "weight_for_1 = (1 / pos) * (total / 2.0)\n",
    "\n",
    "class_weight = {0: weight_for_0, 1: weight_for_1}\n",
    "\n",
    "print('Weight for class 0: {:.2f}'.format(weight_for_0))\n",
    "print('Weight for class 1: {:.2f}'.format(weight_for_1))"
   ]
  },
  {
   "cell_type": "code",
   "execution_count": 67,
   "metadata": {
    "colab": {
     "base_uri": "https://localhost:8080/"
    },
    "id": "7wwgHah0DnAU",
    "outputId": "a7ba99e2-146e-4853-afb6-7ceef58045bb"
   },
   "outputs": [
    {
     "name": "stdout",
     "output_type": "stream",
     "text": [
      "Epoch 1/100\n",
      "3/3 [==============================] - 2s 427ms/step - loss: 0.7374 - tp: 3871.0000 - fp: 803.0000 - tn: 88.0000 - fn: 237.0000 - accuracy: 0.7920 - precision: 0.8282 - recall: 0.9423 - auc: 0.5130 - prc: 0.8298 - val_loss: 0.5939 - val_tp: 607.0000 - val_fp: 132.0000 - val_tn: 2.0000 - val_fn: 9.0000 - val_accuracy: 0.8120 - val_precision: 0.8214 - val_recall: 0.9854 - val_auc: 0.5287 - val_prc: 0.8376\n",
      "Epoch 2/100\n",
      "3/3 [==============================] - 0s 29ms/step - loss: 0.6991 - tp: 3151.0000 - fp: 658.0000 - tn: 99.0000 - fn: 341.0000 - accuracy: 0.7649 - precision: 0.8273 - recall: 0.9023 - auc: 0.5649 - prc: 0.8553 - val_loss: 0.6220 - val_tp: 566.0000 - val_fp: 121.0000 - val_tn: 13.0000 - val_fn: 50.0000 - val_accuracy: 0.7720 - val_precision: 0.8239 - val_recall: 0.9188 - val_auc: 0.5658 - val_prc: 0.8565\n",
      "Epoch 3/100\n",
      "3/3 [==============================] - 0s 29ms/step - loss: 0.6882 - tp: 2810.0000 - fp: 544.0000 - tn: 213.0000 - fn: 682.0000 - accuracy: 0.7115 - precision: 0.8378 - recall: 0.8047 - auc: 0.5837 - prc: 0.8589 - val_loss: 0.6463 - val_tp: 488.0000 - val_fp: 91.0000 - val_tn: 43.0000 - val_fn: 128.0000 - val_accuracy: 0.7080 - val_precision: 0.8428 - val_recall: 0.7922 - val_auc: 0.5844 - val_prc: 0.8674\n",
      "Epoch 4/100\n",
      "3/3 [==============================] - 0s 31ms/step - loss: 0.6846 - tp: 2458.0000 - fp: 465.0000 - tn: 292.0000 - fn: 1034.0000 - accuracy: 0.6472 - precision: 0.8409 - recall: 0.7039 - auc: 0.5783 - prc: 0.8632 - val_loss: 0.6624 - val_tp: 424.0000 - val_fp: 79.0000 - val_tn: 55.0000 - val_fn: 192.0000 - val_accuracy: 0.6387 - val_precision: 0.8429 - val_recall: 0.6883 - val_auc: 0.6012 - val_prc: 0.8775\n",
      "Epoch 5/100\n",
      "3/3 [==============================] - 0s 29ms/step - loss: 0.6762 - tp: 2263.0000 - fp: 381.0000 - tn: 376.0000 - fn: 1229.0000 - accuracy: 0.6211 - precision: 0.8559 - recall: 0.6481 - auc: 0.6011 - prc: 0.8685 - val_loss: 0.6642 - val_tp: 416.0000 - val_fp: 70.0000 - val_tn: 64.0000 - val_fn: 200.0000 - val_accuracy: 0.6400 - val_precision: 0.8560 - val_recall: 0.6753 - val_auc: 0.6135 - val_prc: 0.8822\n",
      "Epoch 6/100\n",
      "3/3 [==============================] - 0s 27ms/step - loss: 0.6613 - tp: 2332.0000 - fp: 327.0000 - tn: 430.0000 - fn: 1160.0000 - accuracy: 0.6500 - precision: 0.8770 - recall: 0.6678 - auc: 0.6480 - prc: 0.8865 - val_loss: 0.6562 - val_tp: 440.0000 - val_fp: 68.0000 - val_tn: 66.0000 - val_fn: 176.0000 - val_accuracy: 0.6747 - val_precision: 0.8661 - val_recall: 0.7143 - val_auc: 0.6194 - val_prc: 0.8835\n",
      "Epoch 7/100\n",
      "3/3 [==============================] - 0s 28ms/step - loss: 0.6544 - tp: 2425.0000 - fp: 352.0000 - tn: 405.0000 - fn: 1067.0000 - accuracy: 0.6660 - precision: 0.8732 - recall: 0.6944 - auc: 0.6682 - prc: 0.8992 - val_loss: 0.6406 - val_tp: 466.0000 - val_fp: 75.0000 - val_tn: 59.0000 - val_fn: 150.0000 - val_accuracy: 0.7000 - val_precision: 0.8614 - val_recall: 0.7565 - val_auc: 0.6242 - val_prc: 0.8820\n",
      "Epoch 8/100\n",
      "3/3 [==============================] - 0s 29ms/step - loss: 0.6413 - tp: 2613.0000 - fp: 361.0000 - tn: 396.0000 - fn: 879.0000 - accuracy: 0.7082 - precision: 0.8786 - recall: 0.7483 - auc: 0.7028 - prc: 0.9131 - val_loss: 0.6238 - val_tp: 485.0000 - val_fp: 77.0000 - val_tn: 57.0000 - val_fn: 131.0000 - val_accuracy: 0.7227 - val_precision: 0.8630 - val_recall: 0.7873 - val_auc: 0.6276 - val_prc: 0.8812\n",
      "Epoch 9/100\n",
      "3/3 [==============================] - 0s 27ms/step - loss: 0.6386 - tp: 2719.0000 - fp: 393.0000 - tn: 364.0000 - fn: 773.0000 - accuracy: 0.7256 - precision: 0.8737 - recall: 0.7786 - auc: 0.7125 - prc: 0.9184 - val_loss: 0.6088 - val_tp: 501.0000 - val_fp: 85.0000 - val_tn: 49.0000 - val_fn: 115.0000 - val_accuracy: 0.7333 - val_precision: 0.8549 - val_recall: 0.8133 - val_auc: 0.6319 - val_prc: 0.8807\n",
      "Epoch 10/100\n",
      "3/3 [==============================] - 0s 32ms/step - loss: 0.6320 - tp: 2818.0000 - fp: 388.0000 - tn: 369.0000 - fn: 674.0000 - accuracy: 0.7501 - precision: 0.8790 - recall: 0.8070 - auc: 0.7233 - prc: 0.9205 - val_loss: 0.6041 - val_tp: 498.0000 - val_fp: 85.0000 - val_tn: 49.0000 - val_fn: 118.0000 - val_accuracy: 0.7293 - val_precision: 0.8542 - val_recall: 0.8084 - val_auc: 0.6344 - val_prc: 0.8803\n",
      "Epoch 11/100\n",
      "3/3 [==============================] - 0s 29ms/step - loss: 0.6197 - tp: 2812.0000 - fp: 374.0000 - tn: 383.0000 - fn: 680.0000 - accuracy: 0.7519 - precision: 0.8826 - recall: 0.8053 - auc: 0.7455 - prc: 0.9286 - val_loss: 0.6067 - val_tp: 484.0000 - val_fp: 81.0000 - val_tn: 53.0000 - val_fn: 132.0000 - val_accuracy: 0.7160 - val_precision: 0.8566 - val_recall: 0.7857 - val_auc: 0.6368 - val_prc: 0.8808\n",
      "Epoch 12/100\n",
      "3/3 [==============================] - 0s 28ms/step - loss: 0.6067 - tp: 2748.0000 - fp: 336.0000 - tn: 421.0000 - fn: 744.0000 - accuracy: 0.7458 - precision: 0.8911 - recall: 0.7869 - auc: 0.7617 - prc: 0.9350 - val_loss: 0.6120 - val_tp: 471.0000 - val_fp: 74.0000 - val_tn: 60.0000 - val_fn: 145.0000 - val_accuracy: 0.7080 - val_precision: 0.8642 - val_recall: 0.7646 - val_auc: 0.6414 - val_prc: 0.8825\n",
      "Epoch 13/100\n",
      "3/3 [==============================] - 0s 28ms/step - loss: 0.6045 - tp: 2691.0000 - fp: 307.0000 - tn: 450.0000 - fn: 801.0000 - accuracy: 0.7392 - precision: 0.8976 - recall: 0.7706 - auc: 0.7608 - prc: 0.9351 - val_loss: 0.6175 - val_tp: 460.0000 - val_fp: 69.0000 - val_tn: 65.0000 - val_fn: 156.0000 - val_accuracy: 0.7000 - val_precision: 0.8696 - val_recall: 0.7468 - val_auc: 0.6435 - val_prc: 0.8835\n",
      "Epoch 14/100\n",
      "3/3 [==============================] - 0s 29ms/step - loss: 0.5970 - tp: 2679.0000 - fp: 298.0000 - tn: 459.0000 - fn: 813.0000 - accuracy: 0.7385 - precision: 0.8999 - recall: 0.7672 - auc: 0.7666 - prc: 0.9356 - val_loss: 0.6188 - val_tp: 446.0000 - val_fp: 69.0000 - val_tn: 65.0000 - val_fn: 170.0000 - val_accuracy: 0.6813 - val_precision: 0.8660 - val_recall: 0.7240 - val_auc: 0.6450 - val_prc: 0.8842\n",
      "Epoch 15/100\n",
      "3/3 [==============================] - 0s 34ms/step - loss: 0.5923 - tp: 2616.0000 - fp: 276.0000 - tn: 481.0000 - fn: 876.0000 - accuracy: 0.7289 - precision: 0.9046 - recall: 0.7491 - auc: 0.7683 - prc: 0.9361 - val_loss: 0.6170 - val_tp: 449.0000 - val_fp: 68.0000 - val_tn: 66.0000 - val_fn: 167.0000 - val_accuracy: 0.6867 - val_precision: 0.8685 - val_recall: 0.7289 - val_auc: 0.6449 - val_prc: 0.8839\n",
      "Epoch 16/100\n",
      "3/3 [==============================] - 0s 28ms/step - loss: 0.5860 - tp: 2647.0000 - fp: 263.0000 - tn: 494.0000 - fn: 845.0000 - accuracy: 0.7392 - precision: 0.9096 - recall: 0.7580 - auc: 0.7762 - prc: 0.9407 - val_loss: 0.6135 - val_tp: 456.0000 - val_fp: 67.0000 - val_tn: 67.0000 - val_fn: 160.0000 - val_accuracy: 0.6973 - val_precision: 0.8719 - val_recall: 0.7403 - val_auc: 0.6460 - val_prc: 0.8843\n",
      "Epoch 17/100\n",
      "3/3 [==============================] - 0s 30ms/step - loss: 0.5811 - tp: 2646.0000 - fp: 266.0000 - tn: 491.0000 - fn: 846.0000 - accuracy: 0.7383 - precision: 0.9087 - recall: 0.7577 - auc: 0.7774 - prc: 0.9395 - val_loss: 0.6070 - val_tp: 460.0000 - val_fp: 68.0000 - val_tn: 66.0000 - val_fn: 156.0000 - val_accuracy: 0.7013 - val_precision: 0.8712 - val_recall: 0.7468 - val_auc: 0.6471 - val_prc: 0.8847\n",
      "Epoch 18/100\n",
      "3/3 [==============================] - 0s 28ms/step - loss: 0.5738 - tp: 2681.0000 - fp: 273.0000 - tn: 484.0000 - fn: 811.0000 - accuracy: 0.7449 - precision: 0.9076 - recall: 0.7678 - auc: 0.7877 - prc: 0.9428 - val_loss: 0.6019 - val_tp: 461.0000 - val_fp: 70.0000 - val_tn: 64.0000 - val_fn: 155.0000 - val_accuracy: 0.7000 - val_precision: 0.8682 - val_recall: 0.7484 - val_auc: 0.6473 - val_prc: 0.8843\n",
      "Epoch 19/100\n",
      "3/3 [==============================] - 0s 31ms/step - loss: 0.5665 - tp: 2690.0000 - fp: 262.0000 - tn: 495.0000 - fn: 802.0000 - accuracy: 0.7496 - precision: 0.9112 - recall: 0.7703 - auc: 0.7942 - prc: 0.9461 - val_loss: 0.6038 - val_tp: 456.0000 - val_fp: 69.0000 - val_tn: 65.0000 - val_fn: 160.0000 - val_accuracy: 0.6947 - val_precision: 0.8686 - val_recall: 0.7403 - val_auc: 0.6480 - val_prc: 0.8843\n",
      "Epoch 20/100\n",
      "3/3 [==============================] - 0s 28ms/step - loss: 0.5572 - tp: 2657.0000 - fp: 248.0000 - tn: 509.0000 - fn: 835.0000 - accuracy: 0.7451 - precision: 0.9146 - recall: 0.7609 - auc: 0.8041 - prc: 0.9487 - val_loss: 0.6079 - val_tp: 449.0000 - val_fp: 65.0000 - val_tn: 69.0000 - val_fn: 167.0000 - val_accuracy: 0.6907 - val_precision: 0.8735 - val_recall: 0.7289 - val_auc: 0.6491 - val_prc: 0.8841\n",
      "Epoch 21/100\n",
      "3/3 [==============================] - 0s 28ms/step - loss: 0.5602 - tp: 2647.0000 - fp: 251.0000 - tn: 506.0000 - fn: 845.0000 - accuracy: 0.7421 - precision: 0.9134 - recall: 0.7580 - auc: 0.7985 - prc: 0.9476 - val_loss: 0.6089 - val_tp: 444.0000 - val_fp: 65.0000 - val_tn: 69.0000 - val_fn: 172.0000 - val_accuracy: 0.6840 - val_precision: 0.8723 - val_recall: 0.7208 - val_auc: 0.6501 - val_prc: 0.8845\n",
      "Epoch 22/100\n",
      "3/3 [==============================] - 0s 32ms/step - loss: 0.5582 - tp: 2651.0000 - fp: 226.0000 - tn: 531.0000 - fn: 841.0000 - accuracy: 0.7489 - precision: 0.9214 - recall: 0.7592 - auc: 0.8011 - prc: 0.9479 - val_loss: 0.6039 - val_tp: 451.0000 - val_fp: 64.0000 - val_tn: 70.0000 - val_fn: 165.0000 - val_accuracy: 0.6947 - val_precision: 0.8757 - val_recall: 0.7321 - val_auc: 0.6508 - val_prc: 0.8847\n",
      "Epoch 23/100\n",
      "3/3 [==============================] - 0s 30ms/step - loss: 0.5488 - tp: 2675.0000 - fp: 237.0000 - tn: 520.0000 - fn: 817.0000 - accuracy: 0.7519 - precision: 0.9186 - recall: 0.7660 - auc: 0.8129 - prc: 0.9519 - val_loss: 0.5996 - val_tp: 455.0000 - val_fp: 67.0000 - val_tn: 67.0000 - val_fn: 161.0000 - val_accuracy: 0.6960 - val_precision: 0.8716 - val_recall: 0.7386 - val_auc: 0.6521 - val_prc: 0.8852\n",
      "Epoch 24/100\n",
      "3/3 [==============================] - 0s 28ms/step - loss: 0.5439 - tp: 2709.0000 - fp: 217.0000 - tn: 540.0000 - fn: 783.0000 - accuracy: 0.7647 - precision: 0.9258 - recall: 0.7758 - auc: 0.8209 - prc: 0.9553 - val_loss: 0.5915 - val_tp: 458.0000 - val_fp: 70.0000 - val_tn: 64.0000 - val_fn: 158.0000 - val_accuracy: 0.6960 - val_precision: 0.8674 - val_recall: 0.7435 - val_auc: 0.6522 - val_prc: 0.8856\n",
      "Epoch 25/100\n",
      "3/3 [==============================] - 0s 28ms/step - loss: 0.5433 - tp: 2733.0000 - fp: 249.0000 - tn: 508.0000 - fn: 759.0000 - accuracy: 0.7628 - precision: 0.9165 - recall: 0.7826 - auc: 0.8184 - prc: 0.9548 - val_loss: 0.5841 - val_tp: 465.0000 - val_fp: 72.0000 - val_tn: 62.0000 - val_fn: 151.0000 - val_accuracy: 0.7027 - val_precision: 0.8659 - val_recall: 0.7549 - val_auc: 0.6517 - val_prc: 0.8855\n",
      "Epoch 26/100\n",
      "3/3 [==============================] - 0s 28ms/step - loss: 0.5403 - tp: 2750.0000 - fp: 241.0000 - tn: 516.0000 - fn: 742.0000 - accuracy: 0.7687 - precision: 0.9194 - recall: 0.7875 - auc: 0.8236 - prc: 0.9557 - val_loss: 0.5777 - val_tp: 475.0000 - val_fp: 75.0000 - val_tn: 59.0000 - val_fn: 141.0000 - val_accuracy: 0.7120 - val_precision: 0.8636 - val_recall: 0.7711 - val_auc: 0.6513 - val_prc: 0.8855\n",
      "Epoch 27/100\n",
      "3/3 [==============================] - 0s 29ms/step - loss: 0.5235 - tp: 2806.0000 - fp: 227.0000 - tn: 530.0000 - fn: 686.0000 - accuracy: 0.7851 - precision: 0.9252 - recall: 0.8036 - auc: 0.8389 - prc: 0.9598 - val_loss: 0.5779 - val_tp: 471.0000 - val_fp: 73.0000 - val_tn: 61.0000 - val_fn: 145.0000 - val_accuracy: 0.7093 - val_precision: 0.8658 - val_recall: 0.7646 - val_auc: 0.6505 - val_prc: 0.8849\n",
      "Epoch 28/100\n",
      "3/3 [==============================] - 0s 28ms/step - loss: 0.5239 - tp: 2808.0000 - fp: 230.0000 - tn: 527.0000 - fn: 684.0000 - accuracy: 0.7849 - precision: 0.9243 - recall: 0.8041 - auc: 0.8361 - prc: 0.9589 - val_loss: 0.5845 - val_tp: 458.0000 - val_fp: 71.0000 - val_tn: 63.0000 - val_fn: 158.0000 - val_accuracy: 0.6947 - val_precision: 0.8658 - val_recall: 0.7435 - val_auc: 0.6510 - val_prc: 0.8851\n",
      "Epoch 29/100\n",
      "3/3 [==============================] - 0s 28ms/step - loss: 0.5179 - tp: 2775.0000 - fp: 225.0000 - tn: 532.0000 - fn: 717.0000 - accuracy: 0.7783 - precision: 0.9250 - recall: 0.7947 - auc: 0.8405 - prc: 0.9608 - val_loss: 0.5896 - val_tp: 450.0000 - val_fp: 69.0000 - val_tn: 65.0000 - val_fn: 166.0000 - val_accuracy: 0.6867 - val_precision: 0.8671 - val_recall: 0.7305 - val_auc: 0.6514 - val_prc: 0.8856\n",
      "Epoch 30/100\n",
      "3/3 [==============================] - 0s 30ms/step - loss: 0.5185 - tp: 2740.0000 - fp: 222.0000 - tn: 535.0000 - fn: 752.0000 - accuracy: 0.7708 - precision: 0.9251 - recall: 0.7847 - auc: 0.8378 - prc: 0.9602 - val_loss: 0.5899 - val_tp: 447.0000 - val_fp: 66.0000 - val_tn: 68.0000 - val_fn: 169.0000 - val_accuracy: 0.6867 - val_precision: 0.8713 - val_recall: 0.7256 - val_auc: 0.6513 - val_prc: 0.8855\n",
      "Epoch 31/100\n",
      "3/3 [==============================] - 0s 28ms/step - loss: 0.5150 - tp: 2736.0000 - fp: 217.0000 - tn: 540.0000 - fn: 756.0000 - accuracy: 0.7710 - precision: 0.9265 - recall: 0.7835 - auc: 0.8410 - prc: 0.9613 - val_loss: 0.5868 - val_tp: 452.0000 - val_fp: 66.0000 - val_tn: 68.0000 - val_fn: 164.0000 - val_accuracy: 0.6933 - val_precision: 0.8726 - val_recall: 0.7338 - val_auc: 0.6522 - val_prc: 0.8856\n",
      "Epoch 32/100\n",
      "3/3 [==============================] - 0s 28ms/step - loss: 0.5139 - tp: 2757.0000 - fp: 215.0000 - tn: 542.0000 - fn: 735.0000 - accuracy: 0.7764 - precision: 0.9277 - recall: 0.7895 - auc: 0.8400 - prc: 0.9609 - val_loss: 0.5822 - val_tp: 456.0000 - val_fp: 66.0000 - val_tn: 68.0000 - val_fn: 160.0000 - val_accuracy: 0.6987 - val_precision: 0.8736 - val_recall: 0.7403 - val_auc: 0.6522 - val_prc: 0.8853\n",
      "Epoch 33/100\n",
      "3/3 [==============================] - 0s 28ms/step - loss: 0.5037 - tp: 2778.0000 - fp: 212.0000 - tn: 545.0000 - fn: 714.0000 - accuracy: 0.7821 - precision: 0.9291 - recall: 0.7955 - auc: 0.8505 - prc: 0.9642 - val_loss: 0.5810 - val_tp: 456.0000 - val_fp: 68.0000 - val_tn: 66.0000 - val_fn: 160.0000 - val_accuracy: 0.6960 - val_precision: 0.8702 - val_recall: 0.7403 - val_auc: 0.6528 - val_prc: 0.8854\n",
      "Epoch 34/100\n",
      "1/3 [=========>....................] - ETA: 0s - loss: 0.4858 - tp: 1391.0000 - fp: 96.0000 - tn: 249.0000 - fn: 312.0000 - accuracy: 0.8008 - precision: 0.9354 - recall: 0.8168 - auc: 0.8596 - prc: 0.9688Restoring model weights from the end of the best epoch: 24.\n",
      "3/3 [==============================] - 0s 31ms/step - loss: 0.5034 - tp: 2797.0000 - fp: 198.0000 - tn: 559.0000 - fn: 695.0000 - accuracy: 0.7898 - precision: 0.9339 - recall: 0.8010 - auc: 0.8520 - prc: 0.9638 - val_loss: 0.5828 - val_tp: 448.0000 - val_fp: 68.0000 - val_tn: 66.0000 - val_fn: 168.0000 - val_accuracy: 0.6853 - val_precision: 0.8682 - val_recall: 0.7273 - val_auc: 0.6530 - val_prc: 0.8853\n",
      "Epoch 34: early stopping\n"
     ]
    }
   ],
   "source": [
    "weighted_model = make_model()\n",
    "weighted_model.load_weights(initial_weights)\n",
    "\n",
    "weighted_history = weighted_model.fit(\n",
    "    train_features,\n",
    "    train_labels,\n",
    "    batch_size=BATCH_SIZE,\n",
    "    epochs=EPOCHS,\n",
    "    callbacks=[early_stopping],\n",
    "    validation_data=(test_features, test_labels),\n",
    "    # The class weights go here\n",
    "    class_weight=class_weight)"
   ]
  },
  {
   "cell_type": "code",
   "execution_count": null,
   "metadata": {
    "id": "qornmW2yD9yI"
   },
   "outputs": [],
   "source": []
  },
  {
   "cell_type": "code",
   "execution_count": null,
   "metadata": {
    "id": "g7oY3OnXD90t"
   },
   "outputs": [],
   "source": []
  },
  {
   "cell_type": "code",
   "execution_count": null,
   "metadata": {
    "id": "1Kja-bvxDnDM"
   },
   "outputs": [],
   "source": []
  },
  {
   "cell_type": "code",
   "execution_count": null,
   "metadata": {
    "id": "Z-6Z9_ZVDnFs"
   },
   "outputs": [],
   "source": []
  },
  {
   "cell_type": "code",
   "execution_count": null,
   "metadata": {
    "id": "Mg2xn6tIIJJ_"
   },
   "outputs": [],
   "source": []
  }
 ],
 "metadata": {
  "accelerator": "GPU",
  "colab": {
   "collapsed_sections": [],
   "name": "servier.ipynb",
   "provenance": []
  },
  "interpreter": {
   "hash": "b46a77ea23b79b2bc76d160603e7bbf17f48a0dec1969e725de5b1d24a8df007"
  },
  "kernelspec": {
   "display_name": "py3_servier_smiles",
   "language": "python",
   "name": "python3"
  },
  "language_info": {
   "codemirror_mode": {
    "name": "ipython",
    "version": 3
   },
   "file_extension": ".py",
   "mimetype": "text/x-python",
   "name": "python",
   "nbconvert_exporter": "python",
   "pygments_lexer": "ipython3",
   "version": "3.8.12"
  }
 },
 "nbformat": 4,
 "nbformat_minor": 4
}
