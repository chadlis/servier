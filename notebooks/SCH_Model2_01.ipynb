{
 "cells": [
  {
   "cell_type": "markdown",
   "metadata": {
    "id": "vv-J8-o84rO_"
   },
   "source": [
    "# Message-passing neural network (MPNN) for molecular property prediction"
   ]
  },
  {
   "cell_type": "code",
   "execution_count": null,
   "metadata": {
    "id": "vA9b7MYY6IB3"
   },
   "outputs": [],
   "source": [
    "#!pip -q install rdkit-pypi\n",
    "#!pip -q install pandas\n",
    "#!pip -q install Pillow\n",
    "#!pip -q install matplotlib\n",
    "#!pip -q install pydot\n",
    "#!sudo apt-get -qq install graphviz"
   ]
  },
  {
   "cell_type": "markdown",
   "metadata": {
    "id": "aqT-oBmL4rPC"
   },
   "source": [
    "### Import packages"
   ]
  },
  {
   "cell_type": "code",
   "execution_count": null,
   "metadata": {},
   "outputs": [],
   "source": [
    "%load_ext autoreload\n",
    "%autoreload 2"
   ]
  },
  {
   "cell_type": "code",
   "execution_count": null,
   "metadata": {
    "id": "k8v-M_h84rPC"
   },
   "outputs": [],
   "source": [
    "import os\n",
    "from pathlib import Path\n",
    "# Temporary suppress tf logs\n",
    "os.environ[\"TF_CPP_MIN_LOG_LEVEL\"] = \"3\"\n",
    "\n",
    "import tensorflow as tf\n",
    "import numpy as np\n",
    "import pandas as pd\n",
    "import warnings\n",
    "import matplotlib.pyplot as plt\n",
    "\n",
    "# Temporary suppress warnings\n",
    "#warnings.filterwarnings(\"ignore\")\n",
    "\n",
    "\n",
    "np.random.seed(42)\n",
    "tf.random.set_seed(42)"
   ]
  },
  {
   "cell_type": "code",
   "execution_count": null,
   "metadata": {
    "id": "1umsQVGeA1cC"
   },
   "outputs": [],
   "source": [
    "X_train_fingerprint = [list(get_fingerprint(x)) for x in X_train]\n",
    "X_test_fingerprint = [list(get_fingerprint(x)) for x in X_test]"
   ]
  },
  {
   "cell_type": "code",
   "execution_count": 46,
   "metadata": {},
   "outputs": [],
   "source": [
    "from constants import *"
   ]
  },
  {
   "cell_type": "markdown",
   "metadata": {
    "id": "_sXSqTS-4rPD",
    "tags": []
   },
   "source": [
    "## Data"
   ]
  },
  {
   "cell_type": "code",
   "execution_count": null,
   "metadata": {
    "colab": {
     "base_uri": "https://localhost:8080/",
     "height": 206
    },
    "id": "So96FK9NGewA",
    "outputId": "f3423e8e-8d9c-4180-cd74-b77d97c08c27"
   },
   "outputs": [],
   "source": [
    "df = pd.read_csv(\"../data/0_raw/data.csv\").reset_index(drop=True)\n",
    "df.head(\n",
    ")"
   ]
  },
  {
   "cell_type": "code",
   "execution_count": 49,
   "metadata": {},
   "outputs": [
    {
     "name": "stderr",
     "output_type": "stream",
     "text": [
      "INFO:root: Data Validation | Dataset imbalance | Proportions: {1: 0.82, 0: 0.18}\n",
      "WARNING:root: Data Validation | Dataset imbalance | Severe imbalance!\n",
      "INFO:root: Data Validation | Finished!\n"
     ]
    }
   ],
   "source": [
    "from data import validate_dataframe\n",
    "df = validate_dataframe(df)"
   ]
  },
  {
   "cell_type": "markdown",
   "metadata": {},
   "source": [
    "## Split to train/validation/test\n",
    "\n",
    "\n",
    "Although scaffold splitting is recommended in our case (see\n",
    "[here](https://www.blopig.com/blog/2021/06/out-of-distribution-generalisation-and-scaffold-splitting-in-molecular-property-prediction/)), for simplicity, random strattified splittings were\n",
    "performed."
   ]
  },
  {
   "cell_type": "code",
   "execution_count": null,
   "metadata": {
    "id": "1umsQVGeA1cC"
   },
   "outputs": [],
   "source": [
    "X_train_fingerprint = [list(get_fingerprint(x)) for x in X_train]\n",
    "X_test_fingerprint = [list(get_fingerprint(x)) for x in X_test]"
   ]
  },
  {
   "cell_type": "code",
   "execution_count": 22,
   "metadata": {},
   "outputs": [
    {
     "name": "stderr",
     "output_type": "stream",
     "text": [
      "INFO:root: Data Validation | Dataset imbalance | Proportions: {1: 0.82, 0: 0.18}\n",
      "WARNING:root: Data Validation | Dataset imbalance | Severe imbalance!\n",
      "INFO:root: Data Validation | Finished!\n",
      "INFO:root: Data Splitting | Train: 0.7, Valid: 0.15, Test: 0.15\n",
      "INFO:root: Data Splitting | Finished!\n"
     ]
    },
    {
     "data": {
      "text/plain": [
       "('../data/1_primary/data_train.csv',\n",
       " '../data/1_primary/data_valid.csv',\n",
       " '../data/1_primary/data_test.csv')"
      ]
     },
     "execution_count": 22,
     "metadata": {},
     "output_type": "execute_result"
    }
   ],
   "source": [
    "from data import split_data\n",
    "split_data(data_path=INPUT_DATA_PATH,\n",
    "           output_path=INTERMEDIATE_DATA_PATH,\n",
    "           test_only=False,\n",
    "          )"
   ]
  },
  {
   "cell_type": "code",
   "execution_count": 28,
   "metadata": {},
   "outputs": [
    {
     "data": {
      "text/plain": [
       "(3499, 750, 750)"
      ]
     },
     "execution_count": 28,
     "metadata": {},
     "output_type": "execute_result"
    }
   ],
   "source": [
    "df_train = pd.read_csv(INTERMEDIATE_DATA_PATH/\"data_train.csv\")\n",
    "df_valid = pd.read_csv(INTERMEDIATE_DATA_PATH/\"data_valid.csv\")\n",
    "df_test = pd.read_csv(INTERMEDIATE_DATA_PATH/\"data_test.csv\")\n",
    "len(df_train), len(df_valid), len(df_test)"
   ]
  },
  {
   "cell_type": "markdown",
   "metadata": {
    "id": "fRU-skw14rPE",
    "tags": []
   },
   "source": [
    "## Featurization, Graph Generation & DataSet Creation\n"
   ]
  },
  {
   "cell_type": "code",
   "execution_count": 30,
   "metadata": {},
   "outputs": [],
   "source": [
    "from data import get_mpnn_dataset\n",
    "train_dataset, atom_dim, bond_dim = get_mpnn_dataset(df_train, return_dims=True)\n",
    "valid_dataset = get_mpnn_dataset(df_valid,)\n",
    "test_dataset = get_mpnn_dataset(df_test,)"
   ]
  },
  {
   "cell_type": "code",
   "execution_count": 32,
   "metadata": {},
   "outputs": [
    {
     "data": {
      "text/plain": [
       "PosixPath('../data/2_feature')"
      ]
     },
     "execution_count": 32,
     "metadata": {},
     "output_type": "execute_result"
    }
   ],
   "source": [
    "FEATURE_DATA_PATH"
   ]
  },
  {
   "cell_type": "code",
   "execution_count": 34,
   "metadata": {},
   "outputs": [],
   "source": [
    "tf.data.experimental.save(train_dataset, \"train_dataset\")"
   ]
  },
  {
   "cell_type": "code",
   "execution_count": 37,
   "metadata": {},
   "outputs": [
    {
     "data": {
      "text/plain": [
       "<PrefetchDataset shapes: (((None, None), (None, None), (None, None), (None,)), (None,)), types: ((tf.float32, tf.float32, tf.int64, tf.int32), tf.int64)>"
      ]
     },
     "execution_count": 37,
     "metadata": {},
     "output_type": "execute_result"
    }
   ],
   "source": [
    "train_dataset"
   ]
  },
  {
   "cell_type": "markdown",
   "metadata": {},
   "source": [
    "### Handle imbalance"
   ]
  },
  {
   "cell_type": "code",
   "execution_count": 35,
   "metadata": {},
   "outputs": [],
   "source": [
    "tr_ds = tf.data.experimental.load(\"train_dataset\")"
   ]
  },
  {
   "cell_type": "code",
   "execution_count": 43,
   "metadata": {},
   "outputs": [
    {
     "data": {
      "text/plain": [
       "(array([1.52765758]), {0: 2.8036858974358974, 1: 0.6085217391304348})"
      ]
     },
     "execution_count": 43,
     "metadata": {},
     "output_type": "execute_result"
    }
   ],
   "source": [
    "from modeling import get_imbalance_params, MPNNModel\n",
    "from data import get_mpnn_dataset\n",
    "\n",
    "initial_bias, class_weight = get_imbalance_params(df_train)\n",
    "initial_bias, class_weight"
   ]
  },
  {
   "cell_type": "code",
   "execution_count": 44,
   "metadata": {},
   "outputs": [],
   "source": [
    "def train(data_train_path, data_valid_path, save_model_path=\"models/my_model\", handle_imbalance=False):\n",
    "    df_train = pd.read_csv(data_train_path)\n",
    "    df_train = validate_dataframe(df_train)\n",
    "    \n",
    "    train_dataset, atom_dim, bond_dim = get_mpnn_dataset(df_train, return_dims=True)\n",
    "    \n",
    "    if data_valid_path is not None:\n",
    "        df_valid = pd.read_csv(data_valid_path)\n",
    "        valid_dataset = get_mpnn_dataset(df_valid,)\n",
    "    \n",
    "    initial_bias=None\n",
    "    class_weights=None\n",
    "    if handle_imbalance==True:\n",
    "        initial_bias, class_weight = get_imbalance_params(df_train)\n",
    "    \n",
    "    model = MPNNModel(\n",
    "        atom_dim=atom_dim, bond_dim=bond_dim, output_bias=initial_bias,\n",
    "    )\n",
    "    \n",
    "    model.compile(\n",
    "        loss=tf.keras.losses.BinaryCrossentropy(),\n",
    "        optimizer=tf.keras.optimizers.Adam(learning_rate=5e-4),\n",
    "        metrics=[tf.keras.metrics.AUC(name=\"AUC\")],\n",
    "    )\n",
    "    \n",
    "    reduce_lr = tf.keras.callbacks.ReduceLROnPlateau(monitor='val_loss', factor=0.1,\n",
    "                                  patience=5, min_lr=1e-7)\n",
    "    early_stopping = tf.keras.callbacks.EarlyStopping(\n",
    "        monitor='val_loss',\n",
    "        patience=5,\n",
    "    )\n",
    "    with warnings.catch_warnings():\n",
    "        warnings.simplefilter(\"ignore\")\n",
    "        history = model.fit(\n",
    "            train_dataset,\n",
    "            validation_data=valid_dataset,\n",
    "            epochs=MAX_EPOCHS,\n",
    "            verbose=2,\n",
    "            callbacks=[reduce_lr, early_stopping],\n",
    "            class_weight=class_weight,\n",
    "        )\n",
    "    model.save(save_model_path)\n",
    "    return model, history"
   ]
  },
  {
   "cell_type": "code",
   "execution_count": 50,
   "metadata": {
    "tags": []
   },
   "outputs": [
    {
     "name": "stderr",
     "output_type": "stream",
     "text": [
      "INFO:root: Data Validation | Dataset imbalance | Proportions: {1: 0.82, 0: 0.18}\n",
      "WARNING:root: Data Validation | Dataset imbalance | Severe imbalance!\n",
      "INFO:root: Data Validation | Finished!\n"
     ]
    },
    {
     "name": "stdout",
     "output_type": "stream",
     "text": [
      "Epoch 1/2\n",
      "110/110 - 9s - loss: 0.6875 - AUC: 0.6093 - val_loss: 0.5343 - val_AUC: 0.6568 - lr: 5.0000e-04 - 9s/epoch - 82ms/step\n",
      "Epoch 2/2\n",
      "110/110 - 8s - loss: 0.6366 - AUC: 0.6962 - val_loss: 0.5878 - val_AUC: 0.6742 - lr: 5.0000e-04 - 8s/epoch - 72ms/step\n"
     ]
    },
    {
     "name": "stderr",
     "output_type": "stream",
     "text": [
      "WARNING:absl:Found untraced functions such as edge_network_layer_call_fn, edge_network_layer_call_and_return_conditional_losses, gru_cell_layer_call_fn, gru_cell_layer_call_and_return_conditional_losses, partition_padding_layer_call_fn while saving (showing 5 of 60). These functions will not be directly callable after loading.\n"
     ]
    },
    {
     "name": "stdout",
     "output_type": "stream",
     "text": [
      "INFO:tensorflow:Assets written to: ../data/3_model/my_model/assets\n"
     ]
    },
    {
     "name": "stderr",
     "output_type": "stream",
     "text": [
      "INFO:tensorflow:Assets written to: ../data/3_model/my_model/assets\n"
     ]
    },
    {
     "data": {
      "text/plain": [
       "(<keras.engine.functional.Functional at 0x157124b20>,\n",
       " <keras.callbacks.History at 0x286ee6520>)"
      ]
     },
     "execution_count": 50,
     "metadata": {},
     "output_type": "execute_result"
    }
   ],
   "source": [
    "train(INTERMEDIATE_DATA_PATH/DATA_TRAIN_FILENAME, INTERMEDIATE_DATA_PATH/DATA_VALID_FILENAME, \n",
    "      save_model_path=MODEL_DATA_PATH/\"mpnn_model\",\n",
    "      handle_imbalance=True,)"
   ]
  },
  {
   "cell_type": "code",
   "execution_count": null,
   "metadata": {
    "colab": {
     "base_uri": "https://localhost:8080/",
     "height": 1000
    },
    "id": "zPFwN-944rPH",
    "outputId": "0896e36c-5534-4534-f440-c5efde19557a"
   },
   "outputs": [],
   "source": [
    "reduce_lr = tf.keras.callbacks.ReduceLROnPlateau(monitor='val_loss', factor=0.1,\n",
    "                              patience=5, min_lr=1e-7)\n",
    "early_stopping = tf.keras.callbacks.EarlyStopping(\n",
    "    monitor='val_loss',\n",
    "    patience=5,\n",
    ")\n",
    "\n",
    "if validation_dataset is None:\n",
    "    history = model.fit(\n",
    "    train_dataset,\n",
    "    validation_split=VALIDATION_SIZE,\n",
    "    epochs=MAX_EPOCHS,\n",
    "    verbose=2,\n",
    "    callbacks=[reduce_lr, early_stopping],\n",
    "    class_weight={0: 2.0, 1: 0.5},\n",
    "    )\n",
    "else:\n",
    "    history = model.fit(\n",
    "        train_dataset,\n",
    "        validation_data=valid_dataset,\n",
    "        epochs=MAX_EPOCHS,\n",
    "        verbose=2,\n",
    "        callbacks=[reduce_lr, early_stopping],\n",
    "        class_weight=class_weight,\n",
    "    )"
   ]
  },
  {
   "cell_type": "code",
   "execution_count": null,
   "metadata": {},
   "outputs": [],
   "source": [
    "def evaluate(data_path, model_path):\n",
    "    df_data = pd.read_pickle(data_path)\n",
    "    dataset = get_mpnn_dataset(df_data)\n",
    "    model = tf.keras.models.load_model(model_path)\n",
    "    return model.evaluate(dataset)"
   ]
  },
  {
   "cell_type": "code",
   "execution_count": null,
   "metadata": {},
   "outputs": [],
   "source": [
    "loss, acc = evaluate(data_path=INTERMEDIATE_DATA_PATH/DATA_VALID_FILENAME,\n",
    "        model_path=\"models/my_model\",)"
   ]
  },
  {
   "cell_type": "code",
   "execution_count": null,
   "metadata": {},
   "outputs": [],
   "source": [
    "def predict(model_path, data_path=None, smiles=None):\n",
    "    model = tf.keras.models.load_model(model_path)\n",
    "    if (data_path is None) and (smiles is None):\n",
    "        return \"Error!\"\n",
    "    if data_path is not None:\n",
    "        df_data = pd.read_pickle(data_path)\n",
    "        dataset = get_mpnn_dataset(df_data)\n",
    "        return  model.predict(dataset)\n",
    "    if smiles is not None:\n",
    "        dataset = get_mpnn_dataset(smiles)\n",
    "        return model.predict(dataset)"
   ]
  },
  {
   "cell_type": "code",
   "execution_count": null,
   "metadata": {},
   "outputs": [],
   "source": [
    "predictions = predict(model_path=\"models/my_model\",\n",
    "        data_path=INTERMEDIATE_DATA_PATH/DATA_TEST_FILENAME,\n",
    "       )"
   ]
  },
  {
   "cell_type": "code",
   "execution_count": null,
   "metadata": {},
   "outputs": [],
   "source": [
    "preds = predict(model_path=\"models/my_model\",\n",
    "        smiles=['CC1=C(C(=O)Nc2cc(-c3cccc(F)c3)[nH]n2)C2(CCCCC2)OC1=O',],\n",
    "       )"
   ]
  },
  {
   "cell_type": "code",
   "execution_count": null,
   "metadata": {},
   "outputs": [],
   "source": []
  },
  {
   "cell_type": "code",
   "execution_count": null,
   "metadata": {},
   "outputs": [],
   "source": []
  },
  {
   "cell_type": "code",
   "execution_count": null,
   "metadata": {},
   "outputs": [],
   "source": []
  },
  {
   "cell_type": "code",
   "execution_count": null,
   "metadata": {},
   "outputs": [],
   "source": []
  },
  {
   "cell_type": "code",
   "execution_count": null,
   "metadata": {},
   "outputs": [],
   "source": []
  },
  {
   "cell_type": "code",
   "execution_count": null,
   "metadata": {},
   "outputs": [],
   "source": [
    "plt.figure(figsize=(10, 6))\n",
    "plt.plot(history.history[\"AUC\"], label=\"train AUC\")\n",
    "plt.plot(history.history[\"val_AUC\"], label=\"valid AUC\")\n",
    "plt.xlabel(\"Epochs\", fontsize=16)\n",
    "plt.ylabel(\"AUC\", fontsize=16)\n",
    "plt.legend(fontsize=16)"
   ]
  },
  {
   "cell_type": "markdown",
   "metadata": {
    "id": "rkBo9xed4rPH"
   },
   "source": [
    "### Predicting"
   ]
  },
  {
   "cell_type": "code",
   "execution_count": null,
   "metadata": {
    "id": "3x8_5jgI4rPH"
   },
   "outputs": [],
   "source": [
    "molecules = [molecule_from_smiles(df.smiles.values[index]) for index in test_index]\n",
    "y_true = [df.p_np.values[index] for index in test_index]\n",
    "y_pred = tf.squeeze(mpnn.predict(test_dataset), axis=1)\n",
    "\n",
    "legends = [f\"y_true/y_pred = {y_true[i]}/{y_pred[i]:.2f}\" for i in range(len(y_true))]\n",
    "MolsToGridImage(molecules, molsPerRow=4, legends=legends)"
   ]
  },
  {
   "cell_type": "code",
   "execution_count": null,
   "metadata": {
    "colab": {
     "base_uri": "https://localhost:8080/"
    },
    "id": "_uzWealhO5Gk",
    "outputId": "78a468d4-f512-46f7-a524-7b28de7af3c9"
   },
   "outputs": [],
   "source": [
    "df.iloc[test_index].head(1).smiles.values"
   ]
  },
  {
   "cell_type": "code",
   "execution_count": null,
   "metadata": {
    "colab": {
     "base_uri": "https://localhost:8080/"
    },
    "id": "MTLldWEZO3ey",
    "outputId": "72c336a0-8072-4488-85b0-fac4c559c026"
   },
   "outputs": [],
   "source": [
    "sample = graphs_from_smiles(df.iloc[134:135].smiles.values)\n",
    "len(sample)"
   ]
  },
  {
   "cell_type": "code",
   "execution_count": null,
   "metadata": {
    "id": "XpOUFja3PzAc"
   },
   "outputs": [],
   "source": [
    "sample_dataset = MPNNDataset(sample, None)"
   ]
  },
  {
   "cell_type": "code",
   "execution_count": null,
   "metadata": {
    "id": "EL5ssQBcPQVF"
   },
   "outputs": [],
   "source": [
    "sample_preds = tf.squeeze(mpnn.predict(sample_dataset), axis=1)"
   ]
  },
  {
   "cell_type": "code",
   "execution_count": null,
   "metadata": {
    "colab": {
     "base_uri": "https://localhost:8080/"
    },
    "id": "WleaAcZmP5G6",
    "outputId": "d5abafe2-902f-4bc6-ae34-f1b3559d1d2d"
   },
   "outputs": [],
   "source": [
    "sample_preds"
   ]
  },
  {
   "cell_type": "code",
   "execution_count": null,
   "metadata": {
    "colab": {
     "base_uri": "https://localhost:8080/"
    },
    "id": "gF0knLtVPtnx",
    "outputId": "2941f382-1036-4852-f9e9-5309144b4417"
   },
   "outputs": [],
   "source": [
    "len(sample)"
   ]
  },
  {
   "cell_type": "code",
   "execution_count": null,
   "metadata": {
    "colab": {
     "base_uri": "https://localhost:8080/"
    },
    "id": "iLHaLywMQpaU",
    "outputId": "70e1c61d-5d50-43e5-951d-71b0c462f0aa"
   },
   "outputs": [],
   "source": [
    "(1, 2, 3) + (4,)"
   ]
  },
  {
   "cell_type": "code",
   "execution_count": null,
   "metadata": {},
   "outputs": [],
   "source": [
    "def evaluate(data_path, model_path):\n",
    "    df_data = pd.read_csv(data_path)\n",
    "    df_data = validate_dataframe(df_data)\n",
    "    dataset = get_mpnn_dataset(df_data)\n",
    "    model = tf.keras.models.load_model(model_path)\n",
    "    return model.evaluate(dataset)"
   ]
  },
  {
   "cell_type": "code",
   "execution_count": null,
   "metadata": {},
   "outputs": [],
   "source": [
    "loss, acc = evaluate(data_path=INTERMEDIATE_DATA_PATH/DATA_VALID_FILENAME,\n",
    "        model_path=\"models/my_model\",)"
   ]
  },
  {
   "cell_type": "code",
   "execution_count": null,
   "metadata": {},
   "outputs": [],
   "source": [
    "def predict(model_path, data_path=None, smiles=None):\n",
    "    model = tf.keras.models.load_model(model_path)\n",
    "    if (data_path is None) and (smiles is None):\n",
    "        raise Exception('No data input is given!')\n",
    "    if data_path is not None:\n",
    "        df_data = pd.read_csv(data_path)\n",
    "        df_data = validate_dataframe(df_data, predict=True)\n",
    "        if COL_TARGET not in df_data:\n",
    "            df_data[COL_TARGET] = 0\n",
    "        dataset = get_mpnn_dataset(df_data)\n",
    "        return  model.predict(dataset)\n",
    "    if smiles is not None:\n",
    "        dataset = get_mpnn_dataset(smiles)\n",
    "        return model.predict(dataset)"
   ]
  },
  {
   "cell_type": "code",
   "execution_count": null,
   "metadata": {},
   "outputs": [],
   "source": [
    "predictions = predict(model_path=\"models/my_model\",\n",
    "        data_path=INTERMEDIATE_DATA_PATH/DATA_TEST_FILENAME,\n",
    "       )"
   ]
  },
  {
   "cell_type": "code",
   "execution_count": null,
   "metadata": {},
   "outputs": [],
   "source": [
    "df[\"smiles\"]"
   ]
  },
  {
   "cell_type": "code",
   "execution_count": null,
   "metadata": {
    "collapsed": true,
    "jupyter": {
     "outputs_hidden": true
    },
    "tags": []
   },
   "outputs": [],
   "source": [
    "predictions"
   ]
  },
  {
   "cell_type": "code",
   "execution_count": null,
   "metadata": {},
   "outputs": [],
   "source": [
    "predict(model_path=\"models/my_model\", smiles=[\"Cc1cccc(N2CCN(C(=O)C34CC5CC(CC(C5)C3)C4)CC2)c1C\",\n",
    "                                             \"Cn1ccnc1SCC(=O)Nc1ccc(Oc2ccccc2)cc1\"])"
   ]
  },
  {
   "cell_type": "code",
   "execution_count": null,
   "metadata": {},
   "outputs": [],
   "source": []
  }
 ],
 "metadata": {
  "accelerator": "GPU",
  "colab": {
   "collapsed_sections": [],
   "name": "Copie de mpnn-molecular-graphs",
   "provenance": []
  },
  "interpreter": {
   "hash": "31f2aee4e71d21fbe5cf8b01ff0e069b9275f58929596ceb00d14d90e3e16cd6"
  },
  "kernelspec": {
   "display_name": "env_3.8_servier",
   "language": "python",
   "name": "python3"
  },
  "language_info": {
   "codemirror_mode": {
    "name": "ipython",
    "version": 3
   },
   "file_extension": ".py",
   "mimetype": "text/x-python",
   "name": "python",
   "nbconvert_exporter": "python",
   "pygments_lexer": "ipython3",
   "version": "3.8.13"
  }
 },
 "nbformat": 4,
 "nbformat_minor": 4
}
