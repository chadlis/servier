{
 "cells": [
  {
   "cell_type": "code",
   "execution_count": 7,
   "metadata": {},
   "outputs": [
    {
     "name": "stdout",
     "output_type": "stream",
     "text": [
      "status code: 200\n",
      "{'model': 'data/3_model/CD16ZHU/model', 'model_output': '0.85', 'prediction': '1', 'smiles': 'CC1=C(C(=O)Nc2cc(-c3cccc(F)c3)[nH]n2)C2(CCCCC2)OC1=O'}\n"
     ]
    }
   ],
   "source": [
    "import requests\n",
    "import json\n",
    "\n",
    "smiles = 'CC1=C(C(=O)Nc2cc(-c3cccc(F)c3)[nH]n2)C2(CCCCC2)OC1=O'\n",
    "experiment = \"CD16ZHU\" # trained for 1 epoch\n",
    "url = f\"http://127.0.0.1:5000/predict?smiles={smiles}&experiment={experiment}\" \n",
    "\n",
    "response = requests.get(url)\n",
    "\n",
    "print(\"status code:\", response.status_code)\n",
    "\n",
    "if response.status_code == 200:\n",
    "    json_object = json.loads(response.text)\n",
    "    print(json_object)\n"
   ]
  },
  {
   "cell_type": "code",
   "execution_count": null,
   "metadata": {},
   "outputs": [],
   "source": []
  },
  {
   "cell_type": "code",
   "execution_count": 8,
   "metadata": {},
   "outputs": [
    {
     "name": "stdout",
     "output_type": "stream",
     "text": [
      "status code: 200\n",
      "{'model': 'data/3_model/CRC2YSG/model', 'model_output': '0.92', 'prediction': '1', 'smiles': 'CC1=C(C(=O)Nc2cc(-c3cccc(F)c3)[nH]n2)C2(CCCCC2)OC1=O'}\n"
     ]
    }
   ],
   "source": [
    "import requests\n",
    "import json\n",
    "\n",
    "smiles = 'CC1=C(C(=O)Nc2cc(-c3cccc(F)c3)[nH]n2)C2(CCCCC2)OC1=O'\n",
    "experiment = \"CRC2YSG\" # trained for 16 epochs (early stopping)\n",
    "url = f\"http://127.0.0.1:5000/predict?smiles={smiles}&experiment={experiment}\" \n",
    "\n",
    "response = requests.get(url)\n",
    "\n",
    "print(\"status code:\", response.status_code)\n",
    "\n",
    "if response.status_code == 200:\n",
    "    json_object = json.loads(response.text)\n",
    "    print(json_object)\n"
   ]
  },
  {
   "cell_type": "code",
   "execution_count": 9,
   "metadata": {},
   "outputs": [],
   "source": [
    "import requests\n",
    "import json\n",
    "\n",
    "smiles = 'CC1=C(C(=O)Nc2cc(-c3cccc(F)c3)[nH]n2)C2(CCCCC2)OC1=O'\n",
    "experiment = \"3KQEMJE\" # trained for 9 epochs + handle imbalance (early stopping)\n",
    "url = f\"http://127.0.0.1:5000/predict?smiles={smiles}&experiment={experiment}\" \n",
    "\n",
    "response = requests.get(url)\n",
    "\n",
    "print(\"status code:\", response.status_code)\n",
    "\n",
    "if response.status_code == 200:\n",
    "    json_object = json.loads(response.text)\n",
    "    print(json_object)\n"
   ]
  },
  {
   "cell_type": "code",
   "execution_count": null,
   "metadata": {},
   "outputs": [],
   "source": []
  }
 ],
 "metadata": {
  "interpreter": {
   "hash": "3777ec600d9d9c1e5444d69de191f255b97d1c3e6d173c3e7fe258f8d6e59079"
  },
  "kernelspec": {
   "display_name": "Python 3.9.10 ('dsm01')",
   "language": "python",
   "name": "python3"
  },
  "language_info": {
   "codemirror_mode": {
    "name": "ipython",
    "version": 3
   },
   "file_extension": ".py",
   "mimetype": "text/x-python",
   "name": "python",
   "nbconvert_exporter": "python",
   "pygments_lexer": "ipython3",
   "version": "3.9.10"
  },
  "orig_nbformat": 4
 },
 "nbformat": 4,
 "nbformat_minor": 2
}
