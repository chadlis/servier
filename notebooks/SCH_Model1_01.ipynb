{
 "cells": [
  {
   "cell_type": "code",
   "execution_count": null,
   "metadata": {
    "colab": {
     "base_uri": "https://localhost:8080/"
    },
    "id": "bESDE-xN6hmo",
    "outputId": "a4578f38-171c-4530-af66-9a8e774d88e9"
   },
   "outputs": [],
   "source": [
    "#!pip install rdkit-pypi\n",
    "#!pip install tensorflow_datasets\n",
    "#!pip install --upgrade tensorflow"
   ]
  },
  {
   "cell_type": "code",
   "execution_count": 5,
   "metadata": {},
   "outputs": [],
   "source": [
    "#!pip install -e ../."
   ]
  },
  {
   "cell_type": "code",
   "execution_count": 2,
   "metadata": {},
   "outputs": [],
   "source": [
    "import rdkit\n"
   ]
  },
  {
   "cell_type": "code",
   "execution_count": 3,
   "metadata": {},
   "outputs": [],
   "source": [
    "from feature_extractor import fingerprint_features"
   ]
  },
  {
   "cell_type": "code",
   "execution_count": 4,
   "metadata": {
    "id": "84e2cSY168VI"
   },
   "outputs": [],
   "source": [
    "import numpy as np\n",
    "\n",
    "import tensorflow_datasets as tfds\n",
    "import tensorflow as tf\n",
    "\n",
    "tfds.disable_progress_bar()"
   ]
  },
  {
   "cell_type": "code",
   "execution_count": 5,
   "metadata": {
    "id": "lyhYxUAm6k8v"
   },
   "outputs": [],
   "source": [
    "import matplotlib.pyplot as plt\n",
    "\n",
    "\n",
    "def plot_graphs(history, metric):\n",
    "    plt.plot(history.history[metric])\n",
    "    plt.plot(history.history['val_'+metric], '')\n",
    "    plt.xlabel(\"Epochs\")\n",
    "    plt.ylabel(metric)\n",
    "    plt.legend([metric, 'val_'+metric])"
   ]
  },
  {
   "cell_type": "code",
   "execution_count": 6,
   "metadata": {
    "id": "LYWa8AKm7UBY"
   },
   "outputs": [],
   "source": [
    "import numpy as np\n",
    "def get_fingerprint(smiles):\n",
    "    return np.frombuffer(fingerprint_features(smiles).ToBitString().encode(), 'u1') - ord('0')"
   ]
  },
  {
   "cell_type": "code",
   "execution_count": 7,
   "metadata": {
    "id": "jzVzldGv659F"
   },
   "outputs": [],
   "source": [
    "import pandas as pd\n",
    "data = pd.read_csv(\"../data/0_raw/data.csv\").drop(\"mol_id\", axis=1)\n",
    "#data[\"fingerprint\"] = data[\"smiles\"].apply(get_fingerprint)"
   ]
  },
  {
   "cell_type": "code",
   "execution_count": 8,
   "metadata": {
    "id": "Xxt1rhia-jT6"
   },
   "outputs": [],
   "source": [
    "X = data[\"smiles\"].values\n",
    "y = data[\"P1\"].values"
   ]
  },
  {
   "cell_type": "code",
   "execution_count": 34,
   "metadata": {
    "id": "Er_Ir7qy7nUR"
   },
   "outputs": [],
   "source": [
    "from sklearn.model_selection import train_test_split\n",
    "X_train, X_not_train, y_train, y_not_train = train_test_split(X, y, test_size=0.3, random_state=42, stratify=y)\n",
    "\n",
    "X_valid, X_test, y_valid, y_test = train_test_split(X_not_train, y_not_train, test_size=0.5, random_state=42, stratify=y_not_train)"
   ]
  },
  {
   "cell_type": "code",
   "execution_count": 35,
   "metadata": {},
   "outputs": [
    {
     "data": {
      "text/plain": [
       "(3499, 750, 750)"
      ]
     },
     "execution_count": 35,
     "metadata": {},
     "output_type": "execute_result"
    }
   ],
   "source": [
    "len(X_train), len(X_test), len(X_valid)"
   ]
  },
  {
   "cell_type": "code",
   "execution_count": null,
   "metadata": {},
   "outputs": [],
   "source": []
  },
  {
   "cell_type": "code",
   "execution_count": 36,
   "metadata": {},
   "outputs": [],
   "source": [
    "X_train_fingerprint = [get_fingerprint(smile) for smile in X_train]\n",
    "X_valid_fingerprint = [get_fingerprint(smile) for smile in X_valid]\n",
    "X_test_fingerprint = [get_fingerprint(smile) for smile in X_test]"
   ]
  },
  {
   "cell_type": "code",
   "execution_count": 37,
   "metadata": {
    "colab": {
     "base_uri": "https://localhost:8080/"
    },
    "id": "-ldANioQ--xU",
    "outputId": "c0348b0f-be93-440a-f266-81b92d9ea465"
   },
   "outputs": [
    {
     "data": {
      "text/plain": [
       "(3499, 750, 750)"
      ]
     },
     "execution_count": 37,
     "metadata": {},
     "output_type": "execute_result"
    }
   ],
   "source": [
    "len(X_train_fingerprint), len(X_valid_fingerprint), len(X_test_fingerprint)"
   ]
  },
  {
   "cell_type": "code",
   "execution_count": 38,
   "metadata": {
    "id": "x0OsB8zzA-EL"
   },
   "outputs": [],
   "source": [
    "train_features = np.float_(X_train_fingerprint)\n",
    "train_labels = y_train\n",
    "valid_features = np.float_(X_valid_fingerprint)\n",
    "valid_labels = y_valid\n",
    "test_features = np.float_(X_test_fingerprint)\n",
    "test_labels = y_test\n"
   ]
  },
  {
   "cell_type": "code",
   "execution_count": 39,
   "metadata": {
    "colab": {
     "base_uri": "https://localhost:8080/"
    },
    "id": "ZsO0UNixBScU",
    "outputId": "726c9e51-9eb0-4285-b8de-967f785db966"
   },
   "outputs": [
    {
     "data": {
      "text/plain": [
       "(3499, 3499)"
      ]
     },
     "execution_count": 39,
     "metadata": {},
     "output_type": "execute_result"
    }
   ],
   "source": [
    "len(train_features), len(y_train)"
   ]
  },
  {
   "cell_type": "code",
   "execution_count": 40,
   "metadata": {
    "id": "u5gY2Fv3GBgD"
   },
   "outputs": [],
   "source": [
    "import tensorflow as tf\n",
    "model = tf.keras.Sequential([\n",
    "  tf.keras.layers.Dense(56, input_shape=(2048,)),\n",
    "  tf.keras.layers.Dropout(0.6),\n",
    "  tf.keras.layers.Dense(56, activation='relu'),\n",
    "  tf.keras.layers.Dropout(0.4),\n",
    "  tf.keras.layers.Dense(1,activation=\"sigmoid\"),\n",
    "  ])\n",
    "model.compile(optimizer=tf.keras.optimizers.Adam(learning_rate=0.0001),\n",
    "loss=tf.keras.losses.BinaryCrossentropy(from_logits=False),\n",
    "metrics=['accuracy'])"
   ]
  },
  {
   "cell_type": "code",
   "execution_count": 56,
   "metadata": {},
   "outputs": [],
   "source": []
  },
  {
   "cell_type": "code",
   "execution_count": 19,
   "metadata": {},
   "outputs": [
    {
     "name": "stdout",
     "output_type": "stream",
     "text": [
      "Model: \"servier_model\"\n",
      "_________________________________________________________________\n",
      " Layer (type)                Output Shape              Param #   \n",
      "=================================================================\n",
      " input_1 (InputLayer)        [(None, 2048)]            0         \n",
      "                                                                 \n",
      " dense_3 (Dense)             (None, 30)                61470     \n",
      "                                                                 \n",
      " dense_4 (Dense)             (None, 1)                 31        \n",
      "                                                                 \n",
      "=================================================================\n",
      "Total params: 61,501\n",
      "Trainable params: 61,501\n",
      "Non-trainable params: 0\n",
      "_________________________________________________________________\n"
     ]
    }
   ],
   "source": [
    "from tensorflow import keras\n",
    "inputs = keras.Input(shape=(2048,))\n",
    "x = keras.layers.Dense(30, activation=\"relu\")(inputs)\n",
    "outputs = keras.layers.Dense(1, activation='sigmoid',)(x)\n",
    "model = keras.Model(inputs=inputs, outputs=outputs, name=\"servier_model\")\n",
    "model.summary()"
   ]
  },
  {
   "cell_type": "code",
   "execution_count": 74,
   "metadata": {
    "id": "y9lcF2LhAcvC"
   },
   "outputs": [],
   "source": [
    "\n",
    "\n",
    "\n",
    "def make_model(metrics=METRICS, output_bias=None):\n",
    "    if output_bias is not None:\n",
    "        output_bias = tf.keras.initializers.Constant(output_bias)\n",
    "    #inputs = keras.Input(shape=(2048,))\n",
    "    #keras.layers.Dense(30, activation=\"relu\")\n",
    "    model = keras.Sequential([\n",
    "      keras.layers.Dense(\n",
    "          16, activation='relu',\n",
    "          input_shape=(2048,)),\n",
    "      keras.layers.Dropout(0.5),\n",
    "      keras.layers.Dense(1, activation='sigmoid',\n",
    "                         bias_initializer=output_bias),\n",
    "    ])\n",
    "\n",
    "    model.compile(\n",
    "      optimizer=keras.optimizers.Adam(learning_rate=1e-3),\n",
    "      loss=keras.losses.BinaryCrossentropy(),\n",
    "      metrics=metrics)\n",
    "\n",
    "    return model"
   ]
  },
  {
   "cell_type": "code",
   "execution_count": 75,
   "metadata": {
    "id": "H5bTZ9UZAcxv"
   },
   "outputs": [],
   "source": [
    "EPOCHS = 100\n",
    "BATCH_SIZE = 128\n",
    "\n",
    "early_stopping = tf.keras.callbacks.EarlyStopping(\n",
    "    monitor='val_auc', \n",
    "    verbose=1,\n",
    "    patience=10,\n",
    "    mode='max',\n",
    "    restore_best_weights=True)"
   ]
  },
  {
   "cell_type": "code",
   "execution_count": 80,
   "metadata": {},
   "outputs": [],
   "source": [
    "\n",
    "from tensorflow import keras\n",
    "METRICS = [\n",
    "      keras.metrics.BinaryAccuracy(name='accuracy'),\n",
    "      keras.metrics.Precision(name='precision'),\n",
    "      keras.metrics.Recall(name='recall'),\n",
    "      keras.metrics.AUC(name='auc'),\n",
    "      keras.metrics.AUC(name='prc', curve='PR'), # precision-recall curve\n",
    "]\n",
    "\n",
    "def get_imbalance_params(y):\n",
    "    neg, pos = np.bincount(y)\n",
    "    total = neg + pos\n",
    "    initial_bias = np.log([pos/neg])\n",
    "    weight_for_0 = (1 / neg) * (total / 2.0)\n",
    "    weight_for_1 = (1 / pos) * (total / 2.0)\n",
    "    class_weight = {0: weight_for_0, 1: weight_for_1}\n",
    "    return initial_bias, class_weight\n",
    "\n",
    "\n",
    "\n",
    "def make_model(metrics=METRICS, output_bias=None):\n",
    "    if output_bias is not None:\n",
    "        output_bias = tf.keras.initializers.Constant(output_bias)\n",
    "    inputs = keras.Input(shape=(2048,))\n",
    "    x = keras.layers.Dense(30, activation=\"relu\")(inputs)\n",
    "    outputs = keras.layers.Dense(1, activation='sigmoid', bias_initializer=output_bias)(x)\n",
    "    model = keras.Model(inputs=inputs, outputs=outputs, name=\"servier_model\")\n",
    "    \n",
    "    model.compile(\n",
    "      optimizer=keras.optimizers.Adam(learning_rate=1e-3),\n",
    "      loss=keras.losses.BinaryCrossentropy(),\n",
    "      metrics=metrics)\n",
    "\n",
    "    return model"
   ]
  },
  {
   "cell_type": "code",
   "execution_count": 81,
   "metadata": {
    "colab": {
     "base_uri": "https://localhost:8080/"
    },
    "id": "3QjNB9TgAwCi",
    "outputId": "fd349710-e51b-4af8-e754-d8b1fc4ae856"
   },
   "outputs": [
    {
     "name": "stdout",
     "output_type": "stream",
     "text": [
      "Model: \"servier_model\"\n",
      "_________________________________________________________________\n",
      " Layer (type)                Output Shape              Param #   \n",
      "=================================================================\n",
      " input_12 (InputLayer)       [(None, 2048)]            0         \n",
      "                                                                 \n",
      " dense_28 (Dense)            (None, 30)                61470     \n",
      "                                                                 \n",
      " dense_29 (Dense)            (None, 1)                 31        \n",
      "                                                                 \n",
      "=================================================================\n",
      "Total params: 61,501\n",
      "Trainable params: 61,501\n",
      "Non-trainable params: 0\n",
      "_________________________________________________________________\n"
     ]
    }
   ],
   "source": [
    "initial_bias, class_weight = get_imbalance_params(y_train)\n",
    "model = make_model(output_bias = initial_bias)\n",
    "model.summary()"
   ]
  },
  {
   "cell_type": "code",
   "execution_count": 82,
   "metadata": {
    "colab": {
     "base_uri": "https://localhost:8080/"
    },
    "id": "7wwgHah0DnAU",
    "outputId": "a7ba99e2-146e-4853-afb6-7ceef58045bb"
   },
   "outputs": [
    {
     "name": "stdout",
     "output_type": "stream",
     "text": [
      "Epoch 1/100\n"
     ]
    },
    {
     "name": "stderr",
     "output_type": "stream",
     "text": [
      "2022-04-19 22:32:49.995500: I tensorflow/core/grappler/optimizers/custom_graph_optimizer_registry.cc:112] Plugin optimizer for device_type GPU is enabled.\n"
     ]
    },
    {
     "name": "stdout",
     "output_type": "stream",
     "text": [
      "28/28 [==============================] - ETA: 0s - loss: 0.8019 - accuracy: 0.7508 - precision: 0.8280 - recall: 0.8793 - auc: 0.5071 - prc: 0.8145"
     ]
    },
    {
     "name": "stderr",
     "output_type": "stream",
     "text": [
      "2022-04-19 22:32:51.341781: I tensorflow/core/grappler/optimizers/custom_graph_optimizer_registry.cc:112] Plugin optimizer for device_type GPU is enabled.\n"
     ]
    },
    {
     "name": "stdout",
     "output_type": "stream",
     "text": [
      "28/28 [==============================] - 2s 51ms/step - loss: 0.8019 - accuracy: 0.7508 - precision: 0.8280 - recall: 0.8793 - auc: 0.5071 - prc: 0.8145 - val_loss: 0.7243 - val_accuracy: 0.5000 - val_precision: 0.8781 - val_recall: 0.4554 - val_auc: 0.5872 - val_prc: 0.8735\n",
      "Epoch 2/100\n",
      "28/28 [==============================] - 1s 19ms/step - loss: 0.6259 - accuracy: 0.6410 - precision: 0.9041 - recall: 0.6299 - auc: 0.7230 - prc: 0.9231 - val_loss: 0.6253 - val_accuracy: 0.6573 - val_precision: 0.8600 - val_recall: 0.6969 - val_auc: 0.6442 - val_prc: 0.8954\n",
      "Epoch 3/100\n",
      "28/28 [==============================] - 1s 19ms/step - loss: 0.5697 - accuracy: 0.7385 - precision: 0.9210 - recall: 0.7457 - auc: 0.8058 - prc: 0.9510 - val_loss: 0.6205 - val_accuracy: 0.6613 - val_precision: 0.8773 - val_recall: 0.6840 - val_auc: 0.6593 - val_prc: 0.9002\n",
      "Epoch 4/100\n",
      "28/28 [==============================] - 1s 21ms/step - loss: 0.5208 - accuracy: 0.7636 - precision: 0.9384 - recall: 0.7624 - auc: 0.8414 - prc: 0.9620 - val_loss: 0.6025 - val_accuracy: 0.6760 - val_precision: 0.8740 - val_recall: 0.7083 - val_auc: 0.6646 - val_prc: 0.9032\n",
      "Epoch 5/100\n",
      "28/28 [==============================] - 1s 21ms/step - loss: 0.4712 - accuracy: 0.7857 - precision: 0.9535 - recall: 0.7770 - auc: 0.8768 - prc: 0.9717 - val_loss: 0.6141 - val_accuracy: 0.6720 - val_precision: 0.8809 - val_recall: 0.6953 - val_auc: 0.6631 - val_prc: 0.9029\n",
      "Epoch 6/100\n",
      "28/28 [==============================] - 1s 19ms/step - loss: 0.4280 - accuracy: 0.8077 - precision: 0.9661 - recall: 0.7937 - auc: 0.9004 - prc: 0.9776 - val_loss: 0.6251 - val_accuracy: 0.6627 - val_precision: 0.8776 - val_recall: 0.6856 - val_auc: 0.6664 - val_prc: 0.9043\n",
      "Epoch 7/100\n",
      "28/28 [==============================] - 1s 22ms/step - loss: 0.3892 - accuracy: 0.8188 - precision: 0.9774 - recall: 0.7979 - auc: 0.9220 - prc: 0.9830 - val_loss: 0.5860 - val_accuracy: 0.6800 - val_precision: 0.8646 - val_recall: 0.7245 - val_auc: 0.6667 - val_prc: 0.9051\n",
      "Epoch 8/100\n",
      "28/28 [==============================] - 1s 18ms/step - loss: 0.3554 - accuracy: 0.8460 - precision: 0.9811 - recall: 0.8285 - auc: 0.9375 - prc: 0.9868 - val_loss: 0.5743 - val_accuracy: 0.7027 - val_precision: 0.8582 - val_recall: 0.7650 - val_auc: 0.6629 - val_prc: 0.9038\n",
      "Epoch 9/100\n",
      "28/28 [==============================] - 1s 21ms/step - loss: 0.3238 - accuracy: 0.8651 - precision: 0.9862 - recall: 0.8477 - auc: 0.9496 - prc: 0.9894 - val_loss: 0.6064 - val_accuracy: 0.6853 - val_precision: 0.8615 - val_recall: 0.7358 - val_auc: 0.6601 - val_prc: 0.9030\n",
      "Epoch 10/100\n",
      "28/28 [==============================] - 1s 19ms/step - loss: 0.2996 - accuracy: 0.8717 - precision: 0.9919 - recall: 0.8508 - auc: 0.9569 - prc: 0.9911 - val_loss: 0.6018 - val_accuracy: 0.6947 - val_precision: 0.8579 - val_recall: 0.7536 - val_auc: 0.6594 - val_prc: 0.9035\n",
      "Epoch 11/100\n",
      "28/28 [==============================] - 1s 18ms/step - loss: 0.2748 - accuracy: 0.8865 - precision: 0.9928 - recall: 0.8682 - auc: 0.9655 - prc: 0.9929 - val_loss: 0.6047 - val_accuracy: 0.7133 - val_precision: 0.8602 - val_recall: 0.7780 - val_auc: 0.6570 - val_prc: 0.9013\n",
      "Epoch 12/100\n",
      "28/28 [==============================] - 1s 19ms/step - loss: 0.2525 - accuracy: 0.8954 - precision: 0.9960 - recall: 0.8762 - auc: 0.9725 - prc: 0.9944 - val_loss: 0.6079 - val_accuracy: 0.7307 - val_precision: 0.8621 - val_recall: 0.8006 - val_auc: 0.6552 - val_prc: 0.9010\n",
      "Epoch 13/100\n",
      "28/28 [==============================] - 1s 21ms/step - loss: 0.2331 - accuracy: 0.9057 - precision: 0.9961 - recall: 0.8887 - auc: 0.9775 - prc: 0.9954 - val_loss: 0.6400 - val_accuracy: 0.7093 - val_precision: 0.8634 - val_recall: 0.7682 - val_auc: 0.6532 - val_prc: 0.9009\n",
      "Epoch 14/100\n",
      "28/28 [==============================] - 1s 18ms/step - loss: 0.2181 - accuracy: 0.9128 - precision: 0.9977 - recall: 0.8960 - auc: 0.9812 - prc: 0.9961 - val_loss: 0.6307 - val_accuracy: 0.7360 - val_precision: 0.8557 - val_recall: 0.8169 - val_auc: 0.6502 - val_prc: 0.8983\n",
      "Epoch 15/100\n",
      "28/28 [==============================] - 0s 17ms/step - loss: 0.2015 - accuracy: 0.9217 - precision: 0.9973 - recall: 0.9071 - auc: 0.9847 - prc: 0.9969 - val_loss: 0.6536 - val_accuracy: 0.7307 - val_precision: 0.8634 - val_recall: 0.7990 - val_auc: 0.6503 - val_prc: 0.8989\n",
      "Epoch 16/100\n",
      "28/28 [==============================] - 0s 18ms/step - loss: 0.1850 - accuracy: 0.9274 - precision: 0.9989 - recall: 0.9127 - auc: 0.9893 - prc: 0.9978 - val_loss: 0.6598 - val_accuracy: 0.7387 - val_precision: 0.8586 - val_recall: 0.8169 - val_auc: 0.6481 - val_prc: 0.8951\n",
      "Epoch 17/100\n",
      "28/28 [==============================] - ETA: 0s - loss: 0.1723 - accuracy: 0.9368 - precision: 0.9981 - recall: 0.9249 - auc: 0.9905 - prc: 0.9981Restoring model weights from the end of the best epoch: 7.\n",
      "28/28 [==============================] - 0s 18ms/step - loss: 0.1723 - accuracy: 0.9368 - precision: 0.9981 - recall: 0.9249 - auc: 0.9905 - prc: 0.9981 - val_loss: 0.6936 - val_accuracy: 0.7187 - val_precision: 0.8625 - val_recall: 0.7828 - val_auc: 0.6469 - val_prc: 0.8947\n",
      "Epoch 00017: early stopping\n"
     ]
    }
   ],
   "source": [
    "weighted_history = model.fit(\n",
    "    train_features,\n",
    "    train_labels,\n",
    "    batch_size=BATCH_SIZE,\n",
    "    epochs=EPOCHS,\n",
    "    callbacks=[early_stopping],\n",
    "    validation_data=(valid_features, valid_labels),\n",
    "    # The class weights go here\n",
    "    class_weight=class_weight)"
   ]
  },
  {
   "cell_type": "code",
   "execution_count": 83,
   "metadata": {
    "id": "qornmW2yD9yI"
   },
   "outputs": [
    {
     "name": "stdout",
     "output_type": "stream",
     "text": [
      "24/24 [==============================] - 0s 16ms/step - loss: 0.5985 - accuracy: 0.7107 - precision: 0.8729 - recall: 0.7581 - auc: 0.6518 - prc: 0.8808\n"
     ]
    }
   ],
   "source": [
    "res = model.evaluate(test_features, test_labels)"
   ]
  },
  {
   "cell_type": "code",
   "execution_count": null,
   "metadata": {
    "id": "g7oY3OnXD90t"
   },
   "outputs": [],
   "source": []
  },
  {
   "cell_type": "code",
   "execution_count": null,
   "metadata": {
    "id": "1Kja-bvxDnDM"
   },
   "outputs": [],
   "source": []
  },
  {
   "cell_type": "code",
   "execution_count": null,
   "metadata": {
    "id": "Z-6Z9_ZVDnFs"
   },
   "outputs": [],
   "source": []
  },
  {
   "cell_type": "code",
   "execution_count": null,
   "metadata": {
    "id": "Mg2xn6tIIJJ_"
   },
   "outputs": [],
   "source": []
  }
 ],
 "metadata": {
  "accelerator": "GPU",
  "colab": {
   "collapsed_sections": [],
   "name": "servier.ipynb",
   "provenance": []
  },
  "interpreter": {
   "hash": "b46a77ea23b79b2bc76d160603e7bbf17f48a0dec1969e725de5b1d24a8df007"
  },
  "kernelspec": {
   "display_name": "py3_servier_smiles",
   "language": "python",
   "name": "python3"
  },
  "language_info": {
   "codemirror_mode": {
    "name": "ipython",
    "version": 3
   },
   "file_extension": ".py",
   "mimetype": "text/x-python",
   "name": "python",
   "nbconvert_exporter": "python",
   "pygments_lexer": "ipython3",
   "version": "3.9.10"
  }
 },
 "nbformat": 4,
 "nbformat_minor": 4
}
